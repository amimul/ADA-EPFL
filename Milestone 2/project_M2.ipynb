{
 "cells": [
  {
   "cell_type": "markdown",
   "metadata": {},
   "source": [
    "# MILESTONE II"
   ]
  },
  {
   "cell_type": "markdown",
   "metadata": {},
   "source": [
    "In this notebook we acquint ourselves with the recipe data. First we show we are gonna prepropcess this data. We explain how we are gonna handle the data size. Next how we will handle the missing data and how we are gonna enrich our data set. <br>\n",
    "Using this info we will conclude how this data suits our needs for the project and reset our goals accordingly. We will explain our new goals and the pipline how we are gonna reach these goals.<br>\n",
    "Let's get sarted!"
   ]
  },
  {
   "cell_type": "markdown",
   "metadata": {},
   "source": [
    "## 0. RECAP: WHAT DO WE WANT TO ACCLOMPISH?"
   ]
  },
  {
   "cell_type": "markdown",
   "metadata": {
    "collapsed": true
   },
   "source": [
    "In the first milestone of the project we showed a lot of possible research questions and possibilities to do with the recipe data. Those research questions where:\n",
    "\n",
    "-  \"Are there subsets of ingredients that are regularly used together and subsets that are never combined with each other and what is a good way to visualize this?\".\n",
    "\n",
    "-  \"Are certain ingredients associated more than others and therefore form a basis must have of ingredients at home?\n",
    "\n",
    "-  \"Is it possible to, based on the subsets, generate new recipes or propose ingredients that go well with the ingredients that you have at home? \"\n",
    "\n",
    "-  \"Can we propose enhancements to certain recipes?\" .\n",
    "\n",
    "-  \"Based on the ratings of the recipes,is it possible to find certain combinations that are loved more than others?\"\n",
    "<br>\n",
    "<br>\n",
    "The feedback on milestone one was that we had too many research questions. We will now look at our data and decides which questions we willanswer, why we chose those questions , and how we are going to answer en present it."
   ]
  },
  {
   "cell_type": "markdown",
   "metadata": {},
   "source": [
    "## 1. GETTING FAMILIAR WITH THE DATA"
   ]
  },
  {
   "cell_type": "markdown",
   "metadata": {},
   "source": [
    "### The .tsv file"
   ]
  },
  {
   "cell_type": "markdown",
   "metadata": {},
   "source": [
    "The recipe data sets consist of two parts. One part is a .tsv file in the info folder the other part are a lot of .html pages with recipe data. Let's first have a look at what is in the .tsv file."
   ]
  },
  {
   "cell_type": "code",
   "execution_count": 30,
   "metadata": {},
   "outputs": [],
   "source": [
    "import pandas as pd\n",
    "import helpers as h\n",
    "import numpy as np\n",
    "import re\n",
    "import numpy as np\n",
    "import networkx as nx\n",
    "import matplotlib.pyplot as plt\n",
    "import pandas as pd"
   ]
  },
  {
   "cell_type": "code",
   "execution_count": 2,
   "metadata": {
    "scrolled": false
   },
   "outputs": [
    {
     "data": {
      "text/html": [
       "<div>\n",
       "<style>\n",
       "    .dataframe thead tr:only-child th {\n",
       "        text-align: right;\n",
       "    }\n",
       "\n",
       "    .dataframe thead th {\n",
       "        text-align: left;\n",
       "    }\n",
       "\n",
       "    .dataframe tbody tr th {\n",
       "        vertical-align: top;\n",
       "    }\n",
       "</style>\n",
       "<table border=\"1\" class=\"dataframe\">\n",
       "  <thead>\n",
       "    <tr style=\"text-align: right;\">\n",
       "      <th></th>\n",
       "      <th>domain</th>\n",
       "      <th>url</th>\n",
       "      <th>kcal_total</th>\n",
       "      <th>kcal_carb</th>\n",
       "      <th>kcal_fat</th>\n",
       "      <th>kcal_protein</th>\n",
       "      <th>mg_sodium</th>\n",
       "      <th>mg_cholesterol</th>\n",
       "      <th>title</th>\n",
       "      <th>title_bag-of-words</th>\n",
       "      <th>ingredients_list</th>\n",
       "      <th>ingredients_bag-of-words</th>\n",
       "    </tr>\n",
       "  </thead>\n",
       "  <tbody>\n",
       "    <tr>\n",
       "      <th>1981</th>\n",
       "      <td>foodnetwork.com</td>\n",
       "      <td>http://www.foodnetwork.com/paulas-home-cooking...</td>\n",
       "      <td>?</td>\n",
       "      <td>?</td>\n",
       "      <td>?</td>\n",
       "      <td>?</td>\n",
       "      <td>?</td>\n",
       "      <td>?</td>\n",
       "      <td>Racing Car Dishes : Paula's Home Cooking : Foo...</td>\n",
       "      <td>'s : car cooking dishes food home network paul...</td>\n",
       "      <td>NaN</td>\n",
       "      <td>NaN</td>\n",
       "    </tr>\n",
       "    <tr>\n",
       "      <th>59723</th>\n",
       "      <td>allrecipes.com</td>\n",
       "      <td>http://allrecipes.com/Recipe/Dilly-Potato-Sala...</td>\n",
       "      <td>170</td>\n",
       "      <td>100</td>\n",
       "      <td>37.8</td>\n",
       "      <td>33.6</td>\n",
       "      <td>131</td>\n",
       "      <td>160</td>\n",
       "      <td>Dilly Potato Salad Recipe</td>\n",
       "      <td>dilly potato recipe salad</td>\n",
       "      <td>2 pounds red potatoes, diced|6 hard-cooked egg...</td>\n",
       "      <td>, 1 1\\/4 2 3 6 chopped cup diced dijon-style d...</td>\n",
       "    </tr>\n",
       "    <tr>\n",
       "      <th>13413</th>\n",
       "      <td>allrecipes.com</td>\n",
       "      <td>http://allrecipes.com/Recipe/Lentil-Soup-2/Det...</td>\n",
       "      <td>248</td>\n",
       "      <td>130</td>\n",
       "      <td>53.1</td>\n",
       "      <td>53.2</td>\n",
       "      <td>279</td>\n",
       "      <td>6</td>\n",
       "      <td>Lentil Soup Recipe</td>\n",
       "      <td>lentil recipe soup</td>\n",
       "      <td>2 tablespoons olive oil|2 large onions, cubed|...</td>\n",
       "      <td>, - 1 1\\/2 1 1\\/2 2 3 3\\/4 3 1\\/2 7 and bay bl...</td>\n",
       "    </tr>\n",
       "    <tr>\n",
       "      <th>3491</th>\n",
       "      <td>epicurious.com</td>\n",
       "      <td>http://www.epicurious.com/recipes/food/views/Y...</td>\n",
       "      <td>?</td>\n",
       "      <td>?</td>\n",
       "      <td>?</td>\n",
       "      <td>?</td>\n",
       "      <td>?</td>\n",
       "      <td>?</td>\n",
       "      <td>Yellow Cake Recipe</td>\n",
       "      <td>cake recipe yellow</td>\n",
       "      <td>2 cups cake flour (not self-rising)|2 teaspoon...</td>\n",
       "      <td>, -lrb- -rrb- 1 1\\/2 1 1\\/2 2 3 30 3\\/4 at bak...</td>\n",
       "    </tr>\n",
       "    <tr>\n",
       "      <th>10056</th>\n",
       "      <td>allrecipes.com</td>\n",
       "      <td>http://allrecipes.com/Recipes/Appetizers-and-S...</td>\n",
       "      <td>?</td>\n",
       "      <td>?</td>\n",
       "      <td>?</td>\n",
       "      <td>?</td>\n",
       "      <td>?</td>\n",
       "      <td>?</td>\n",
       "      <td>Best Salsa Recipes</td>\n",
       "      <td>best recipes salsa</td>\n",
       "      <td>NaN</td>\n",
       "      <td>NaN</td>\n",
       "    </tr>\n",
       "  </tbody>\n",
       "</table>\n",
       "</div>"
      ],
      "text/plain": [
       "                domain                                                url  \\\n",
       "1981   foodnetwork.com  http://www.foodnetwork.com/paulas-home-cooking...   \n",
       "59723   allrecipes.com  http://allrecipes.com/Recipe/Dilly-Potato-Sala...   \n",
       "13413   allrecipes.com  http://allrecipes.com/Recipe/Lentil-Soup-2/Det...   \n",
       "3491    epicurious.com  http://www.epicurious.com/recipes/food/views/Y...   \n",
       "10056   allrecipes.com  http://allrecipes.com/Recipes/Appetizers-and-S...   \n",
       "\n",
       "      kcal_total kcal_carb kcal_fat kcal_protein mg_sodium mg_cholesterol  \\\n",
       "1981           ?         ?        ?            ?         ?              ?   \n",
       "59723        170       100     37.8         33.6       131            160   \n",
       "13413        248       130     53.1         53.2       279              6   \n",
       "3491           ?         ?        ?            ?         ?              ?   \n",
       "10056          ?         ?        ?            ?         ?              ?   \n",
       "\n",
       "                                                   title  \\\n",
       "1981   Racing Car Dishes : Paula's Home Cooking : Foo...   \n",
       "59723                          Dilly Potato Salad Recipe   \n",
       "13413                                 Lentil Soup Recipe   \n",
       "3491                                  Yellow Cake Recipe   \n",
       "10056                                 Best Salsa Recipes   \n",
       "\n",
       "                                      title_bag-of-words  \\\n",
       "1981   's : car cooking dishes food home network paul...   \n",
       "59723                          dilly potato recipe salad   \n",
       "13413                                 lentil recipe soup   \n",
       "3491                                  cake recipe yellow   \n",
       "10056                                 best recipes salsa   \n",
       "\n",
       "                                        ingredients_list  \\\n",
       "1981                                                 NaN   \n",
       "59723  2 pounds red potatoes, diced|6 hard-cooked egg...   \n",
       "13413  2 tablespoons olive oil|2 large onions, cubed|...   \n",
       "3491   2 cups cake flour (not self-rising)|2 teaspoon...   \n",
       "10056                                                NaN   \n",
       "\n",
       "                                ingredients_bag-of-words  \n",
       "1981                                                 NaN  \n",
       "59723  , 1 1\\/4 2 3 6 chopped cup diced dijon-style d...  \n",
       "13413  , - 1 1\\/2 1 1\\/2 2 3 3\\/4 3 1\\/2 7 and bay bl...  \n",
       "3491   , -lrb- -rrb- 1 1\\/2 1 1\\/2 2 3 30 3\\/4 at bak...  \n",
       "10056                                                NaN  "
      ]
     },
     "execution_count": 2,
     "metadata": {},
     "output_type": "execute_result"
    }
   ],
   "source": [
    "infoDf=h.load_tsv()\n",
    "infoDf.sample(5,random_state=1)"
   ]
  },
  {
   "cell_type": "markdown",
   "metadata": {},
   "source": [
    "We succesfully loaded the data set but as you can see there is a whole lot of missing and messy data that should be cleaned out. Let's have a look at some examples"
   ]
  },
  {
   "cell_type": "markdown",
   "metadata": {},
   "source": [
    "<b>Example 1: messy data"
   ]
  },
  {
   "cell_type": "code",
   "execution_count": 3,
   "metadata": {},
   "outputs": [
    {
     "data": {
      "text/html": [
       "<div>\n",
       "<style>\n",
       "    .dataframe thead tr:only-child th {\n",
       "        text-align: right;\n",
       "    }\n",
       "\n",
       "    .dataframe thead th {\n",
       "        text-align: left;\n",
       "    }\n",
       "\n",
       "    .dataframe tbody tr th {\n",
       "        vertical-align: top;\n",
       "    }\n",
       "</style>\n",
       "<table border=\"1\" class=\"dataframe\">\n",
       "  <thead>\n",
       "    <tr style=\"text-align: right;\">\n",
       "      <th></th>\n",
       "      <th>12789</th>\n",
       "    </tr>\n",
       "  </thead>\n",
       "  <tbody>\n",
       "    <tr>\n",
       "      <th>domain</th>\n",
       "      <td>cdkitchen.com</td>\n",
       "    </tr>\n",
       "    <tr>\n",
       "      <th>url</th>\n",
       "      <td>http://www.cdkitchen.com/recipes/dish/sauces-a...</td>\n",
       "    </tr>\n",
       "    <tr>\n",
       "      <th>kcal_total</th>\n",
       "      <td>?</td>\n",
       "    </tr>\n",
       "    <tr>\n",
       "      <th>kcal_carb</th>\n",
       "      <td>?</td>\n",
       "    </tr>\n",
       "    <tr>\n",
       "      <th>kcal_fat</th>\n",
       "      <td>?</td>\n",
       "    </tr>\n",
       "    <tr>\n",
       "      <th>kcal_protein</th>\n",
       "      <td>?</td>\n",
       "    </tr>\n",
       "    <tr>\n",
       "      <th>mg_sodium</th>\n",
       "      <td>?</td>\n",
       "    </tr>\n",
       "    <tr>\n",
       "      <th>mg_cholesterol</th>\n",
       "      <td>?</td>\n",
       "    </tr>\n",
       "    <tr>\n",
       "      <th>title</th>\n",
       "      <td>Alfredo Sauce Recipes</td>\n",
       "    </tr>\n",
       "    <tr>\n",
       "      <th>title_bag-of-words</th>\n",
       "      <td>alfredo recipes sauce</td>\n",
       "    </tr>\n",
       "    <tr>\n",
       "      <th>ingredients_list</th>\n",
       "      <td>NaN</td>\n",
       "    </tr>\n",
       "    <tr>\n",
       "      <th>ingredients_bag-of-words</th>\n",
       "      <td>NaN</td>\n",
       "    </tr>\n",
       "  </tbody>\n",
       "</table>\n",
       "</div>"
      ],
      "text/plain": [
       "                                                                      12789\n",
       "domain                                                        cdkitchen.com\n",
       "url                       http://www.cdkitchen.com/recipes/dish/sauces-a...\n",
       "kcal_total                                                                ?\n",
       "kcal_carb                                                                 ?\n",
       "kcal_fat                                                                  ?\n",
       "kcal_protein                                                              ?\n",
       "mg_sodium                                                                 ?\n",
       "mg_cholesterol                                                            ?\n",
       "title                                                 Alfredo Sauce Recipes\n",
       "title_bag-of-words                                    alfredo recipes sauce\n",
       "ingredients_list                                                        NaN\n",
       "ingredients_bag-of-words                                                NaN"
      ]
     },
     "execution_count": 3,
     "metadata": {},
     "output_type": "execute_result"
    }
   ],
   "source": [
    "pd.DataFrame(infoDf.iloc[12789])"
   ]
  },
  {
   "cell_type": "markdown",
   "metadata": {},
   "source": [
    "As one can see this is almost empty and will therefore not add any new usefull information that we can use for our flavor analysis. Since we are interested in the ingredients we can remove all the entities that have no ingredient_list or ingredients_bag-of-words. But before we do that let's make sure that throwing away those datarows is justified."
   ]
  },
  {
   "cell_type": "code",
   "execution_count": 4,
   "metadata": {},
   "outputs": [
    {
     "name": "stdout",
     "output_type": "stream",
     "text": [
      "29.06% has no information about the ingredients\n"
     ]
    }
   ],
   "source": [
    "countedSeries=infoDf.count()\n",
    "assert(countedSeries.get(\"ingredients_list\")==countedSeries.get(\"ingredients_bag-of-words\"))\n",
    "throwAwayPercentage=(len(infoDf)-countedSeries.get(\"ingredients_list\"))/len(infoDf)*100\n",
    "print(str(throwAwayPercentage.round(2)) + \"% has no information about the ingredients\")"
   ]
  },
  {
   "cell_type": "markdown",
   "metadata": {},
   "source": [
    "Can we justify throwing away almost 30% of our data rows? Or should we come up with an alogithm to fill in the missing points? Let's have a look at some of the pages that are thrown away."
   ]
  },
  {
   "cell_type": "markdown",
   "metadata": {},
   "source": [
    "The example site can be found on the link: http://www.cdkitchen.com/recipes/dish/sauces-and-condiments/alfredo-sauce . When going to this link we can see that it is some kind of general page for alfrede-sauces with links to different recipies. Another example of an empty row would be http://allrecipes.com/Recipes/fruits-and-vegetables/fruits/mangos/main.aspx which is also a general page for recipies with mangos. This indicates that it is indeed safe to throw those data rows away."
   ]
  },
  {
   "cell_type": "code",
   "execution_count": 5,
   "metadata": {
    "collapsed": true
   },
   "outputs": [],
   "source": [
    "#Throw the rows away\n",
    "infoDf.dropna(subset=[\"ingredients_list\", \"ingredients_bag-of-words\"], how='all',inplace=True)"
   ]
  },
  {
   "cell_type": "markdown",
   "metadata": {},
   "source": [
    "<b>Example 2: messy data"
   ]
  },
  {
   "cell_type": "code",
   "execution_count": 6,
   "metadata": {
    "collapsed": true
   },
   "outputs": [],
   "source": [
    "columnsOfInterest=[\"title\",\"title_bag-of-words\",\"ingredients_list\",\"ingredients_bag-of-words\"]"
   ]
  },
  {
   "cell_type": "markdown",
   "metadata": {},
   "source": [
    "The bag of words and the ingredient list are sometimes quite messy. Let's have a look at two typical rows."
   ]
  },
  {
   "cell_type": "code",
   "execution_count": 7,
   "metadata": {},
   "outputs": [
    {
     "name": "stdout",
     "output_type": "stream",
     "text": [
      "ingredient list:   2 cups nonfat milk|2 tablespoons non-fat powdered milk|3/4 cup egg substitute|1/3 cup Splenda sugar substitute|1 teaspoon vanilla extract|3 teaspoons sugar\n",
      "\n",
      "ingredients bag of words: 1 1\\/3 2 3 3\\/4 cup cups egg extract milk non-fat nonfat powdered splenda substitute sugar tablespoons teaspoon teaspoons vanilla\n"
     ]
    }
   ],
   "source": [
    "print(\"ingredient list:   \" +str(infoDf.iloc[31251][\"ingredients_list\"]))\n",
    "print(\"\")\n",
    "print(\"ingredients bag of words: \"+str(infoDf.iloc[31251][\"ingredients_bag-of-words\"]))"
   ]
  },
  {
   "cell_type": "code",
   "execution_count": 8,
   "metadata": {},
   "outputs": [
    {
     "name": "stdout",
     "output_type": "stream",
     "text": [
      "ingredient list:   1 (10-ounce) bag baby spinach|1 ripe Bartlett pear, cored and thinly sliced|1 small red onion, thinly sliced|1 (4-ounce) package crumbled blue cheese|Sugared Curried Walnuts|Maple-Cider Vinaigrette\n",
      "\n",
      "ingredients bag of words: , -lrb- -rrb- 1 10-ounce 4-ounce and baby bag bartlett blue cheese cored crumbled curried maple-cider onion package pear red ripe sliced small spinach sugared thinly vinaigrette walnuts\n"
     ]
    }
   ],
   "source": [
    "print(\"ingredient list:   \" +str(infoDf.iloc[44004][\"ingredients_list\"]))\n",
    "print(\"\")\n",
    "print(\"ingredients bag of words: \"+str(infoDf.iloc[44004][\"ingredients_bag-of-words\"]))\n"
   ]
  },
  {
   "cell_type": "markdown",
   "metadata": {},
   "source": [
    "Note that in both cases the bag-of-words of ingredients does not really bring a lot of extra value to the used ingredients or even the way they are prepared! We will therefore only look at the the ingredient list in what follows. "
   ]
  },
  {
   "cell_type": "markdown",
   "metadata": {},
   "source": [
    "However this ingredient list is not useable yet.We should find a systematic and smart way to standardize our ingredients. Our goal is to get a clean list of ingredients for each recipe. How this goal is accomplished is explained in section 2: Standardazing and cleaning the data."
   ]
  },
  {
   "cell_type": "markdown",
   "metadata": {},
   "source": [
    "### The html files"
   ]
  },
  {
   "cell_type": "markdown",
   "metadata": {},
   "source": [
    "We already had a look at the .tsv file. This tsv file was obtained by webscraping from arround 70.000 webpages. This webpages are given to us as downloaded html files. To retrieve the webpages from their corresponding url we can ms.log file. The only reason why we would use these would be enrich our data set with the rating of the recipies and hance find more loved flavor combinations than others. \n",
    "\n",
    "We decided not to implement this for the following reasons:\n",
    "-  There are 14 different domains and each domain requires a specific algorithm to scrape the rating\n",
    "-  Since the user base from the sites are different some sites may grade more severly than others\n",
    "-  Not every domain has a rating system.\n",
    "-  There is more than enough interesting stuff to analyze with the ingredients alone! \n"
   ]
  },
  {
   "cell_type": "code",
   "execution_count": 9,
   "metadata": {},
   "outputs": [
    {
     "data": {
      "text/plain": [
       "14"
      ]
     },
     "execution_count": 9,
     "metadata": {},
     "output_type": "execute_result"
    }
   ],
   "source": [
    "#How many different domains are there\n",
    "len(np.unique(infoDf[\"domain\"]))"
   ]
  },
  {
   "cell_type": "markdown",
   "metadata": {},
   "source": [
    "## 2. STANDARDIZING AND CLEANING THE DATA"
   ]
  },
  {
   "cell_type": "markdown",
   "metadata": {},
   "source": [
    "As the saying for data analysis/machine learning goes: \"garbage in, garbage out\". The main goal of this section is therefore to come up with an algorithm that cleans our data. The full implementation of the used functions is, to not overload the notebook, placed in the helpers.py file. No worries the functions and the reasoning behind them are still explained in the notebook"
   ]
  },
  {
   "cell_type": "markdown",
   "metadata": {},
   "source": [
    "As we saw in the examples earlier the ingredient list is quite messy. Since we are mainly interested different ingredients we will remove all quantities (numbers) and quantity units (ounce, pound, teaspoon, cup,...) . Nonsense words like \"-lrb-\" or \"-rrb-\" probably coming from html webscraping will be removed as well. We also should remove adjectives like thinly, sliced, small,... However not all adjectives should be removed for example we would like to keep the information about \"blue cheese\".  Since the goal is to identify different ingredients we will try to match each ingredient with an ingredient from a known data base. \n",
    "This known database scraped from http://www.supercook.com which has quite an impressive lists of ingredients that will be used to do the matching.\n",
    "The challenge is now to find a good algorithm than matches each valid ingredient from our infoDf to this database. "
   ]
  },
  {
   "cell_type": "markdown",
   "metadata": {},
   "source": [
    "Throughout the standardization we will use 2 different examples."
   ]
  },
  {
   "cell_type": "code",
   "execution_count": 10,
   "metadata": {},
   "outputs": [
    {
     "data": {
      "text/plain": [
       "'2 cups nonfat milk|2 tablespoons non-fat powdered milk|3/4 cup egg substitute|1/3 cup Splenda sugar substitute|1 teaspoon vanilla extract|3 teaspoons sugar'"
      ]
     },
     "execution_count": 10,
     "metadata": {},
     "output_type": "execute_result"
    }
   ],
   "source": [
    "#EXAMPLE 1\n",
    "infoDf.iloc[31251].ingredients_list"
   ]
  },
  {
   "cell_type": "code",
   "execution_count": 11,
   "metadata": {},
   "outputs": [
    {
     "data": {
      "text/plain": [
       "'put one half cup of milk, 4 tablespoons of chocolate syrup, Vanilla extract and Ice to taste in whatever your using to blend it. Blend until satisfied with the texture and serve.|Now what are you waiting for?|go on! enjoy!'"
      ]
     },
     "execution_count": 11,
     "metadata": {},
     "output_type": "execute_result"
    }
   ],
   "source": [
    "#EXAMPLE 2\n",
    "infoDf.iloc[0].ingredients_list"
   ]
  },
  {
   "cell_type": "markdown",
   "metadata": {},
   "source": [
    "### 2.1 Split and remove the uneccesairy items"
   ]
  },
  {
   "cell_type": "markdown",
   "metadata": {},
   "source": [
    "Here we want to use the information of the seperator | which should indicate that a new ingredient is starting. However as we can see in the second example this is not always used correctly.\n",
    "So how are we going to clean this? First we try to split it into ingredients according to | operator because in most cases this still indicates a new ingredient. After it is splitted we try to remove the unecessairy words from that list. This is done in the makeIngredientList function. We illustrate with the 2 examples. But before we do it let's first make all the nouns signular and lower case. This is done wy the morphy_lower function in the helpers file."
   ]
  },
  {
   "cell_type": "code",
   "execution_count": 12,
   "metadata": {},
   "outputs": [],
   "source": [
    "lowerStemmedIngredients = infoDf[\"ingredients_list\"].apply(h.morphy_lower)\n",
    "infoDf[\"ingredients_list\"]=lowerStemmedIngredients"
   ]
  },
  {
   "cell_type": "markdown",
   "metadata": {},
   "source": [
    "Now it's time to split the ingredient list in different ingredients and remove the unecessairy items from each in gredient. The uneccesairy items removes all informationless features like weightUnits etc as described at the beginning of the section. The power of the function is best illustrated on a bag of words."
   ]
  },
  {
   "cell_type": "code",
   "execution_count": 13,
   "metadata": {},
   "outputs": [
    {
     "name": "stdout",
     "output_type": "stream",
     "text": [
      "before: 2 cup nonfat milk|2 tablespoon non-fat powder milk|3/4 cup egg substitute|1/3 cup splenda sugar substitute|1 teaspoon vanilla extract|3 teaspoon sugar\n",
      "\n",
      "after: ['nonfat milk', 'non-fat powder milk', 'egg substitute', 'splenda sugar substitute', 'vanilla extract', 'sugar']\n",
      "\n",
      "\n",
      "before: put one half cup of milk, 4 tablespoon of chocolate syrup, vanilla extract and ice to taste in whatever your using to blend it. blend until satisfy with the texture and serve.|now what are you waiting for?|go on! enjoy!\n",
      "\n",
      "after: ['put one milk, chocolate syrup, vanilla extract ice taste whatever using blend it. blend satisfy texture serve.', 'waiting for?', 'go']\n"
     ]
    }
   ],
   "source": [
    "ingredientListEX1=h.makeIngredientList(infoDf.iloc[31251][\"ingredients_list\"])\n",
    "print(\"before: \" +infoDf.iloc[31251][\"ingredients_list\"])\n",
    "print(\"\")\n",
    "print(\"after: \"+str(ingredientListEX1))\n",
    "print(\"\")\n",
    "ingredientListEX2=h.makeIngredientList(infoDf.iloc[0][\"ingredients_list\"])\n",
    "print(\"\")\n",
    "print(\"before: \" +infoDf.iloc[0][\"ingredients_list\"])\n",
    "print(\"\")\n",
    "print(\"after: \"+str(ingredientListEX2))"
   ]
  },
  {
   "cell_type": "markdown",
   "metadata": {},
   "source": [
    "This already looks a lot better however still not close enough to a standardized ingredient list defenitly not in the second case."
   ]
  },
  {
   "cell_type": "markdown",
   "metadata": {},
   "source": [
    "### 2.2 match with external database"
   ]
  },
  {
   "cell_type": "markdown",
   "metadata": {},
   "source": [
    "As one can see in the previous section example 1 worked out OK while the second example is still far away from a standardized ingredient set.\n",
    "We now try to match certain word or word combinations from our extracted ingredient database from supercook.com. But first let's do the same cleaning process as before. In this case this is just taking lower case and morphing the word. "
   ]
  },
  {
   "cell_type": "code",
   "execution_count": 14,
   "metadata": {},
   "outputs": [],
   "source": [
    "#get the total list of ingredients from supercook.com\n",
    "totalList=h.returnTotalList()\n",
    "#Let's remove all the capitals and all the plurals as before\n",
    "from nltk.corpus import wordnet\n",
    "temp=[]\n",
    "for s in totalList:\n",
    "    temp.append(h.morphy_lower(s))\n",
    "totalList=temp"
   ]
  },
  {
   "cell_type": "markdown",
   "metadata": {},
   "source": [
    "Finding the best match/matches from an ingredient from the ingredient list is done in the findBestMatch function.\n",
    "This function campares te given element from the ingredient list to the database and extracts the ingredients that are similar. This is done as follow: first it looks at two word combinations like: chocolate syrop or blue cheese. Then it looks at matching single words. "
   ]
  },
  {
   "cell_type": "code",
   "execution_count": 15,
   "metadata": {},
   "outputs": [
    {
     "data": {
      "text/plain": [
       "[['milk'], ['powdered milk'], ['eggs'], ['sugar'], ['vanilla'], ['sugar']]"
      ]
     },
     "execution_count": 15,
     "metadata": {},
     "output_type": "execute_result"
    }
   ],
   "source": [
    "#EXAMPLE 1\n",
    "[h.findBestMatch(ingredient) for ingredient in ingredientListEX1]"
   ]
  },
  {
   "cell_type": "code",
   "execution_count": 16,
   "metadata": {},
   "outputs": [
    {
     "data": {
      "text/plain": [
       "[['chocolate syrup', 'milk', 'vanilla', 'rice'], [], []]"
      ]
     },
     "execution_count": 16,
     "metadata": {},
     "output_type": "execute_result"
    }
   ],
   "source": [
    "#EXAMPLE 2\n",
    "[h.findBestMatch(ingredient) for ingredient in ingredientListEX2]"
   ]
  },
  {
   "cell_type": "markdown",
   "metadata": {},
   "source": [
    "Combining all the previous functions together gives the finalClean function. The implementation is shown below and can also be found in the helpers file."
   ]
  },
  {
   "cell_type": "code",
   "execution_count": 17,
   "metadata": {
    "collapsed": true
   },
   "outputs": [],
   "source": [
    "def finalClean(s):\n",
    "    ingredientList=h.makeIngredientList(s)\n",
    "    resultList=[]\n",
    "    #print(ingredientList)\n",
    "    for s in ingredientList:\n",
    "        bestMatch=h.findBestMatch(s)\n",
    "        resultList=resultList+bestMatch\n",
    "    return str(set(resultList))#Remove duplicates and convert to a string."
   ]
  },
  {
   "cell_type": "markdown",
   "metadata": {},
   "source": [
    "Let's have a final look at our two examples."
   ]
  },
  {
   "cell_type": "code",
   "execution_count": 18,
   "metadata": {},
   "outputs": [
    {
     "name": "stdout",
     "output_type": "stream",
     "text": [
      "before: 2 cup nonfat milk|2 tablespoon non-fat powder milk|3/4 cup egg substitute|1/3 cup splenda sugar substitute|1 teaspoon vanilla extract|3 teaspoon sugar\n",
      "\n",
      "after: {'vanilla', 'powdered milk', 'sugar', 'eggs', 'milk'}\n",
      "\n",
      "\n",
      "before: put one half cup of milk, 4 tablespoon of chocolate syrup, vanilla extract and ice to taste in whatever your using to blend it. blend until satisfy with the texture and serve.|now what are you waiting for?|go on! enjoy!\n",
      "\n",
      "after: {'vanilla', 'milk', 'chocolate syrup', 'rice'}\n"
     ]
    }
   ],
   "source": [
    "print(\"before: \" +infoDf.iloc[31251][\"ingredients_list\"])\n",
    "print(\"\")\n",
    "print(\"after: \"+h.finalClean(infoDf.iloc[31251][\"ingredients_list\"]))\n",
    "print(\"\")\n",
    "ingredientListEX2=h.makeIngredientList(infoDf.iloc[0][\"ingredients_list\"])\n",
    "print(\"\")\n",
    "print(\"before: \" +infoDf.iloc[0][\"ingredients_list\"])\n",
    "print(\"\")\n",
    "print(\"after: \"+h.finalClean(infoDf.iloc[0][\"ingredients_list\"]))\n",
    "\n"
   ]
  },
  {
   "cell_type": "markdown",
   "metadata": {},
   "source": [
    "This is exactly what we were looking for. Let's apply it to a bigger scale. For convience we take a smaller subsample because running it on the whole data set takes quite a lot of time. The result of the whole dataset was saved as finalDf.csv. "
   ]
  },
  {
   "cell_type": "code",
   "execution_count": 19,
   "metadata": {},
   "outputs": [
    {
     "name": "stdout",
     "output_type": "stream",
     "text": [
      "--- 3.6338839530944824 seconds ---\n",
      "ESTIMATED TOTAL TIME: 60.51385817623138 minutes\n"
     ]
    }
   ],
   "source": [
    "sampleSize=50\n",
    "import time\n",
    "start_time = time.time()\n",
    "cleaned = infoDf[\"ingredients_list\"].sample(sampleSize,random_state=1).apply(finalClean)\n",
    "T=(time.time() - start_time)\n",
    "print(\"--- %s seconds ---\" % T)\n",
    "print(\"ESTIMATED TOTAL TIME: \"+str(T*len(infoDf)/sampleSize/60) +\" minutes\")"
   ]
  },
  {
   "cell_type": "markdown",
   "metadata": {},
   "source": [
    "Displaying the subsample with their ingredients."
   ]
  },
  {
   "cell_type": "code",
   "execution_count": 20,
   "metadata": {},
   "outputs": [
    {
     "data": {
      "text/html": [
       "<div>\n",
       "<style>\n",
       "    .dataframe thead tr:only-child th {\n",
       "        text-align: right;\n",
       "    }\n",
       "\n",
       "    .dataframe thead th {\n",
       "        text-align: left;\n",
       "    }\n",
       "\n",
       "    .dataframe tbody tr th {\n",
       "        vertical-align: top;\n",
       "    }\n",
       "</style>\n",
       "<table border=\"1\" class=\"dataframe\">\n",
       "  <thead>\n",
       "    <tr style=\"text-align: right;\">\n",
       "      <th></th>\n",
       "      <th>ingredients_list</th>\n",
       "      <th>standardized</th>\n",
       "    </tr>\n",
       "  </thead>\n",
       "  <tbody>\n",
       "    <tr>\n",
       "      <th>121</th>\n",
       "      <td>16 ounce water|1/8-ounce yeast|1/2-ounce salt|2 pound bread flour|1/4 cup olive oil|1/4 cup cornmeal|2 cup tomato sauce, jar or homemade|2 cup shred mozzarella|1/2 cup slice mushrooms|1/2 cup spinach, shredded|1/2 cup grate romano|1/2 cup slice pepperoni|1/2 cup grate parmesan</td>\n",
       "      <td>{'olive oil', 'pepperoni', 'parmesan', 'shallot', 'romano', 'tomato sauce', 'spinach', 'mozzarella', 'mushroom', 'bread flour', 'cornmeal', 'yeast'}</td>\n",
       "    </tr>\n",
       "    <tr>\n",
       "      <th>176</th>\n",
       "      <td>2 cup sift confectioners' sugar|1/2 cup butter|1 teaspoon vanilla extract|1 1/2 tablespoon milk|2 tablespoon cocoa powder (optional)</td>\n",
       "      <td>{'confectioners sugar', 'butter', 'milk', 'vanilla'}</td>\n",
       "    </tr>\n",
       "    <tr>\n",
       "      <th>1119</th>\n",
       "      <td>1 pound french green lentil (recommended: du puy)|1/4 cup olive oil, plus extra for serving|4 cup dice yellow onion (3 large)|4 cup chop leeks, white and light green parts only (2 leeks)|1 tablespoon mince garlic (2 large cloves)|1 tablespoon kosher salt|1 1/2 teaspoon freshly ground black pepper|1 tablespoon mince fresh thyme leaves|1 teaspoon ground cumin|3 cup medium dice celery (8 stalks)|3 cup medium dice carrot (4 to 6 carrots)|3 quart homemade chicken stock, recipe follows, or can broth|1/4 cup tomato paste|1 pound kielbasa, cut in 1/2 lengthwise and slice 1/3-inch thick|2 tablespoon dry red wine or red wine vinegar|freshly grate parmesan, for serving|3 (5-pound) chickens|3 large onions, unpeeled and quartered|6 carrots, unpeeled and halved|4 celery stalk with leaves, cut in thirds|4 parsnips, unpeeled and cut in 1/2, optional|20 sprig fresh flat-leaf parsley|15 sprig fresh thyme|20 sprig fresh dill|1 head garlic, unpeeled and cut in 1/2 crosswise|2 tablespoon kosher salt|2 teaspoon whole black peppercorn</td>\n",
       "      <td>{'ground chicken', 'chicken soup', 'garlic', 'celery salt', 'parmesan', 'parsley', 'onion', 'dill', 'thyme', 'celery', 'lentil', 'olive oil', 'red wine', 'carrot', 'tomato paste', 'peppercorn'}</td>\n",
       "    </tr>\n",
       "    <tr>\n",
       "      <th>2759</th>\n",
       "      <td>4 eggs|1 1/4 cup vegetable oil|2 cup white sugar|2 teaspoon vanilla extract|2 cup all-purpose flour|2 teaspoon baking soda|2 teaspoon baking powder|1/2 teaspoon salt|2 teaspoon ground cinnamon|3 cup grate carrots|1 cup chop pecans|1/2 cup butter, softened|8 ounce cream cheese, softened|4 cup confectioners' sugar|1 teaspoon vanilla extract|1 cup chop pecan</td>\n",
       "      <td>{'vanilla', 'confectioners sugar', 'butter', 'sugar', 'flour', 'baking powder', 'shallot', 'baking soda', 'cinnamon', 'eggs', 'pecan', 'cream cheese', 'carrot', 'vegetable oil'}</td>\n",
       "    </tr>\n",
       "    <tr>\n",
       "      <th>4429</th>\n",
       "      <td>1 (32 ounce) package freeze hash brown potatoes|8 ounce cooked, dice ham|2 (10.75 ounce) can condense cream of potato soup|1 (16 ounce) container sour cream|2 cup shred sharp cheddar cheese|1 1/2 cup grate parmesan cheese</td>\n",
       "      <td>{'parmesan', 'sour cream', 'potato', 'cream', 'cheddar', 'ham'}</td>\n",
       "    </tr>\n",
       "    <tr>\n",
       "      <th>4571</th>\n",
       "      <td>2 (16 ounce) package miniature smoke sausage links|1 (8 ounce) jar grape jelly|1 (12 ounce) bottle barbeque sauce</td>\n",
       "      <td>{'grape', 'sausage'}</td>\n",
       "    </tr>\n",
       "    <tr>\n",
       "      <th>5500</th>\n",
       "      <td>2 pound sweet potatoes, peel and cut into cubes|1/2 vidalia onion, finely chopped|1 red pepper, seed and finely chopped|4 green onions, thinly sliced|1/3 cup mayonnaise|2 tablespoon orange juice|1 teaspoon smoke paprika|1/2 teaspoon ground cumin|salt and freshly ground black pepper</td>\n",
       "      <td>{'sweet potato', 'onion', 'orange juice', 'paprika', 'mayonnaise', 'ground chicken', 'eel'}</td>\n",
       "    </tr>\n",
       "    <tr>\n",
       "      <th>6167</th>\n",
       "      <td>1/4 cup dark chocolate chips|1 5/8 ounce butter|1 egg|1/8 cup sugar|1/8 cup flour (plus an extra pinch or two)</td>\n",
       "      <td>{'butter', 'sugar', 'flour', 'chocolate', 'chips', 'eggs'}</td>\n",
       "    </tr>\n",
       "    <tr>\n",
       "      <th>6200</th>\n",
       "      <td>2 1/2 cup chicken broth (swanson regular, natural goodness or certify organic)|1 dash ground black pepper, generous dash|2 stalk celery, coarsely chopped|1 large onion, coarsely chopped|1 (16 ounce) package herb season stuffing mix, pepperidge farm brand recommend</td>\n",
       "      <td>{'dashi', 'onion', 'celery', 'chicken broth', 'stuffing mix', 'brandy', 'herbs'}</td>\n",
       "    </tr>\n",
       "    <tr>\n",
       "      <th>7835</th>\n",
       "      <td>3 medium beets, peel and cut into 1 inch cubes|1 large turnip, peel and cubed|1 cup pearl onions, peeled|1/4 cup olive oil|1/2 teaspoon dry rosemary|salt to taste</td>\n",
       "      <td>{'pear', 'olive oil', 'eel', 'rosemary'}</td>\n",
       "    </tr>\n",
       "    <tr>\n",
       "      <th>8519</th>\n",
       "      <td>1 (3 pound) whole chicken|1 onion, quartered|2 slice lemon|salt and pepper to taste|3 cup water|1 bay leaf|1/2 teaspoon dry thyme|2 cup all-purpose flour|3 tablespoon shortening|1 teaspoon salt|1/4 cup water</td>\n",
       "      <td>{'flour', 'bay leaf', 'onion', 'whole chicken', 'shallot', 'thyme', 'lemon', 'shortening'}</td>\n",
       "    </tr>\n",
       "    <tr>\n",
       "      <th>10133</th>\n",
       "      <td>2 cup dry chicken stove top stuffing mix (from the canister)|2 cup milk|1 1/2 cup cube ham (or use bob evans sausage, cooked, drain well, and crumbled)|6 eggs, beaten|1 cup cheddar cheese, shredded|1/2 teaspoon salt</td>\n",
       "      <td>{'shallot', 'eggs', 'stuffing mix', 'sausage', 'cheddar', 'milk', 'ham'}</td>\n",
       "    </tr>\n",
       "    <tr>\n",
       "      <th>10166</th>\n",
       "      <td>1/3 cup olive oil|12 medium mushrooms, clean and quartered|6 clove garlic, thinly sliced|1 lemon, juiced</td>\n",
       "      <td>{'garlic', 'clove', 'mushroom', 'olive oil', 'lemon'}</td>\n",
       "    </tr>\n",
       "    <tr>\n",
       "      <th>10779</th>\n",
       "      <td>12 oz creme de menthe|2 ozs tequila|12 oz triple sec|2 ozs sour mix (prepared)</td>\n",
       "      <td>{'creme de menthe', 'triple sec', 'tequila'}</td>\n",
       "    </tr>\n",
       "    <tr>\n",
       "      <th>14250</th>\n",
       "      <td>1/2 cup(s) cider vinegar|1/4 cup(s) extra-virgin olive oil|3/4 teaspoon(s) kosher salt|1/4 cup(s) chop shallot|2 clove(s) garlic|2 pound(s) boneless, skinless chicken thighs|1 cup(s) applewood chips, or you may substitute maple or hickory chips</td>\n",
       "      <td>{'chicken thighs', 'garlic', 'shallot', 'chips', 'cider vinegar', 'olive oil'}</td>\n",
       "    </tr>\n",
       "    <tr>\n",
       "      <th>15336</th>\n",
       "      <td>1 cup coconut oil, liquefied|2/3-3/4 cup carob powder|2 tablespoon vanilla extract</td>\n",
       "      <td>{'vanilla', 'coconut', 'curry powder'}</td>\n",
       "    </tr>\n",
       "    <tr>\n",
       "      <th>19690</th>\n",
       "      <td>coarse salt|ground pepper|6.00 tablespoon(s) butter|1.00 pound(s) white mushrooms, trim and slice 1 inch thick|0.50 cup(s) all-purpose flour|3.00 cup(s) milk|1.00 can(s) (14 1/2-ounce) reduced-sodium chicken broth|3/4 cup(s) dry white wine|3.00 cup(s) grate parmesan cheese|0.50 teaspoon(s) dry thyme leaves|1.00 pound(s) linguine, break in half|1.00 rotisserie chicken, skin removed, meat shred (about 4 cups)|1.00 package(s) (10-ounce) freeze peas, thaw and drain</td>\n",
       "      <td>{'butter', 'flour', 'parmesan', 'peas', 'white wine', 'chicken broth', 'thyme', 'mushroom', 'milk', 'ground pork'}</td>\n",
       "    </tr>\n",
       "    <tr>\n",
       "      <th>24926</th>\n",
       "      <td>1 (18 ounce) box chocolate cake mix|1 (3 ounce) box instant chocolate pudding mix|1/2 cup rum|4 eggs|1/2 cup low-fat milk|1/2 cup canola oil|1 cup semi-sweet chocolate chips|4 tablespoon butter|1/2 cup rum|1/2 cup sugar|1/4 teaspoon vanilla</td>\n",
       "      <td>{'vanilla', 'butter', 'sugar', 'chocolate', 'rum', 'chips', 'pudding mix', 'eggs', 'cake mix', 'milk'}</td>\n",
       "    </tr>\n",
       "    <tr>\n",
       "      <th>25203</th>\n",
       "      <td>3 1/2 cup all-purpose flour|2 teaspoon baking soda|1 teaspoon salt|1/2 teaspoon baking powder|3 cup white sugar|1 teaspoon ground cinnamon|1 teaspoon pumpkin pie spice|1 cup applesauce|4 eggs, lightly beaten|1 (15 ounce) can pumpkin puree|1/4 cup water|1/2 cup chop walnut (optional)</td>\n",
       "      <td>{'flour', 'sugar', 'baking powder', 'apple sauce', 'pike', 'shallot', 'baking soda', 'cinnamon', 'pumpkin', 'eggs', 'walnut'}</td>\n",
       "    </tr>\n",
       "    <tr>\n",
       "      <th>25244</th>\n",
       "      <td>1/2 cup vinegar|1/4 cup oil|1 teaspoon salt|1/4 cup white sugar|1 teaspoon celery seed|1 (8 ounce) package coleslaw mix or 1 (8 ounce) package broccoli coleslaw mix|1 (8 ounce) container pico de gallo (or you can make your own)</td>\n",
       "      <td>{'sugar', 'shallot', 'broccoli', 'vinegar', 'celery seed'}</td>\n",
       "    </tr>\n",
       "    <tr>\n",
       "      <th>26866</th>\n",
       "      <td>1/4 cup butter|1 cup chop shiitake mushrooms|1 cup chop portobello mushrooms|2 shallots, chopped|2 tablespoon all-purpose flour|1 (14.5 ounce) can chicken broth|1 cup half-and-half|salt and pepper to taste|1 pinch ground cinnamon (optional)</td>\n",
       "      <td>{'butter', 'flour', 'shallot', 'chicken broth', 'cinnamon', 'mushroom'}</td>\n",
       "    </tr>\n",
       "    <tr>\n",
       "      <th>28403</th>\n",
       "      <td>1 1/2 cup finely chop onion|2 large garlic cloves, minced|1 1/2 tablespoon mince pickle jalape&amp;ntilde;o chilies, or to taste|1 teaspoon ground coriander|1 1/2 teaspoon ground cumin|1/4 cup unsalted butter|1/4 cup all-purpose flour|4 cup milk|a 28-ounce can plum tomatoes, the juice discard and the tomato chop and drain well|cayenne to taste if desired|1 pound elbow macaroni|1 1/2 cup coarsely grate monterey jack (about 6 ounces)|1 1/2 cup coarsely grate extra-sharp cheddar (about 6 ounces)|1 1/2 cup fresh bread crumbs|1 1/3 cup freshly grate parmesan (about 1/4 pound)</td>\n",
       "      <td>{'apple butter', 'ground coriander', 'flour', 'garlic', 'macaroon', 'parmesan', 'onion', 'bread crumbs', 'cayenne', 'tomato', 'ground chicken', 'pickle', 'cheddar', 'milk', 'plum tomatoes'}</td>\n",
       "    </tr>\n",
       "    <tr>\n",
       "      <th>29379</th>\n",
       "      <td>centers:|2 ounce ghirardelli 60% cacao bittersweet chocolate baking bar, break or chop into 1-inch pieces|1/4 cup heavy cream|cakes:|4 ounce ghirardelli 60% cacao bittersweet chocolate baking bar, break or chop into 1-inch pieces|1/2 cup unsalted butter, cut into pieces|2 large whole eggs|2 large egg yolks|1/3 cup granulate white sugar|1/2 teaspoon pure vanilla extract|1/4 cup cake flour|raspberries for garnish|whipped cream for garnish</td>\n",
       "      <td>{'cacao', 'vanilla', 'butter', 'sugar', 'flour', 'whipped cream', 'eggs', 'bittersweet chocolate', 'ice cream', 'raspberries'}</td>\n",
       "    </tr>\n",
       "    <tr>\n",
       "      <th>30137</th>\n",
       "      <td>2 (7 ounce) can salmon, drained|2 tablespoon fat-free mayonnaise|2 tablespoon plain low-fat yogurt|1 cup chop celery|2 tablespoon capers|1/8 teaspoon ground black pepper|8 leaf lettuce</td>\n",
       "      <td>{'yogurt', 'salmon', 'celery', 'mayonnaise'}</td>\n",
       "    </tr>\n",
       "    <tr>\n",
       "      <th>30513</th>\n",
       "      <td>1 teaspoon canola oil|1/2 cup mince onion|1/2 cup mince red bell pepper|1 clove garlic, minced|1 teaspoon ground cumin|3/4 teaspoon ground coriander|1/2 teaspoon curry powder|1/2 cup light coconut milk|1 teaspoon sugar|1/4 teaspoon crush red pepper flakes|1 pound jumbo shrimp, peel and deveined|1 tablespoon cornstarch|1 tablespoon water|2 tablespoon chop fresh cilantro</td>\n",
       "      <td>{'bell pepper', 'ground coriander', 'sugar', 'garlic', 'shrimp', 'red pepper flake', 'cornstarch', 'clove', 'red onion', 'curry powder', 'cilantro', 'coconut milk', 'ground chicken', 'eel'}</td>\n",
       "    </tr>\n",
       "    <tr>\n",
       "      <th>32736</th>\n",
       "      <td>3/4 cup butter|3 cup pack light brown sugar|3 eggs, beaten|1 1/2 teaspoon vanilla extract|3 cup chop pecans|3 cup self-rising flour</td>\n",
       "      <td>{'vanilla', 'butter', 'sugar', 'eggs', 'pecan', 'self rising flour'}</td>\n",
       "    </tr>\n",
       "    <tr>\n",
       "      <th>32927</th>\n",
       "      <td>red wine - 12 ounces|3 slice oranges|1 cup fresh or freeze raspberries|12 ounce sierra mist free</td>\n",
       "      <td>{'raspberries', 'red wine', 'orange'}</td>\n",
       "    </tr>\n",
       "    <tr>\n",
       "      <th>33046</th>\n",
       "      <td>2 cup all-purpose biscuit baking mix|1 (8 ounce) container plain yogurt</td>\n",
       "      <td>{'yogurt', 'biscuits'}</td>\n",
       "    </tr>\n",
       "    <tr>\n",
       "      <th>33476</th>\n",
       "      <td>1 tablespoon apple cider vinegar (i use braggs)|1 tablespoon honey</td>\n",
       "      <td>{'honey', 'apple cider vinegar'}</td>\n",
       "    </tr>\n",
       "    <tr>\n",
       "      <th>36266</th>\n",
       "      <td>2 ripe tomatoes, diced|2 green bell peppers, diced|1 white onion, diced|1/2 bunch fresh cilantro, for garnish|1 tablespoon fresh lemon juice|1 jalapeno chile pepper, dice</td>\n",
       "      <td>{'bell pepper', 'onion', 'chili pepper', 'lemon', 'cilantro', 'tomato juice'}</td>\n",
       "    </tr>\n",
       "    <tr>\n",
       "      <th>37811</th>\n",
       "      <td>1 – box whole wheat lasagna pasta|2 cup homemade or ½ jar of a chunky garden italian sauce|1 8 0z bag fat free shred mozzarella {save 3 heap spoons}|{vegan use veggie shred } {save 3 heap spoons}|1 - 16 oz tub low fat cottage cheese {vegan use soy yogurt, drain into a lightweight cotton cloth. twist the cloth into a ball and tie with thin string. hang this over sink or pot for ½ hour}|10 – 12 oz bag fresh spinach {save a few leaves}|cooking spray|½ cup water</td>\n",
       "      <td>{'cottage cheese', 'cooking spray', 'rose water', 'lasagne', 'spinach', 'mozzarella', 'wheat', 'yogurt', 'pasta'}</td>\n",
       "    </tr>\n",
       "    <tr>\n",
       "      <th>39285</th>\n",
       "      <td>3 cup old-fashioned oat (9 ounces)|1 cup slice almond with skin (1/4 pound)|1/4 cup sesame seeds|6 tablespoon vegetable oil|6 tablespoon mild honey|1 teaspoon ground cardamom|1/2 cup dry apricots, finely chopped|1/2 cup dry pears, finely chopped|accompaniments: greek-style yogurt</td>\n",
       "      <td>{'honey', 'sesame seed', 'cardamom', 'almond', 'yogurt', 'apricot', 'vegetable oil'}</td>\n",
       "    </tr>\n",
       "    <tr>\n",
       "      <th>41386</th>\n",
       "      <td>1/4 cup flour|1 teaspoon salt|1/4 teaspoon pepper|2 tablespoon mince onions|1/2 teaspoon paprika|3 cup milk|1 cup of grate cheddar cheese (or your favourite kind of cheese)|2 cup uncooked elbow macaroni</td>\n",
       "      <td>{'flour', 'pepperoni', 'macaroon', 'onion', 'shallot', 'paprika', 'cheddar', 'milk'}</td>\n",
       "    </tr>\n",
       "    <tr>\n",
       "      <th>43169</th>\n",
       "      <td>3 cup chill heavy cream|1/2 cup sugar, plus|1 tablespoon sugar (total of 9 tablespoons)|1 cup mascarpone cheese, at room temperature|1 (9 ounce) box chocolate wafers, such as nabisco famous|1 tablespoon instant espresso powder</td>\n",
       "      <td>{'sugar', 'chocolate', 'mascarpone', 'cream', 'espresso'}</td>\n",
       "    </tr>\n",
       "    <tr>\n",
       "      <th>44290</th>\n",
       "      <td>1 (19 7/8 ounce) box betty crocker fudge brownie mix|2 large eggs|1/4 cup water|1/2 cup vegetable oil|2 (7 ounce) hershey symphony milk chocolate candy bars</td>\n",
       "      <td>{'chocolate', 'cracker', 'eggs', 'milk', 'vegetable oil'}</td>\n",
       "    </tr>\n",
       "    <tr>\n",
       "      <th>45548</th>\n",
       "      <td>1 tablespoon olive oil|1 onion, chopped|1 celery rib, chopped|1 tablespoon crush garlic|1 teaspoon thyme|1 (14.5 ounce) can black beans, drained|8 cup vegetable broth, divided|1 teaspoon ground cumin|1 (14.5 ounce) can white beans, drained|1/2 teaspoon dry sage</td>\n",
       "      <td>{'ground chicken', 'garlic', 'onion', 'celery', 'thyme', 'black beans', 'olive oil', 'sage'}</td>\n",
       "    </tr>\n",
       "    <tr>\n",
       "      <th>46248</th>\n",
       "      <td>3 cup cook and mash sweet potatoes, from about 2 to 3 small bake potatoes|1 cup granulate sugar|3 eggs, beaten|1/2 cup milk|8 tablespoon unsalted butter, about 1 stick, melted|1 tablespoon vanilla extract|1/2 teaspoon salt|1 cup pack light brown sugar|4 tablespoon unsalted butter, about 1/2 stick, cubed, at room temperature|1/2 cup self-rising cake flour|1 cup chop pecan</td>\n",
       "      <td>{'vanilla', 'butter', 'sugar', 'sweet potato', 'shallot', 'potato', 'eggs', 'pecan', 'self rising flour', 'milk'}</td>\n",
       "    </tr>\n",
       "    <tr>\n",
       "      <th>46357</th>\n",
       "      <td>4 1/2 cup sugar|1 can (12 ounce size) evaporate milk|1 cup butter|2 package (12 oz size) milk chocolate chips|1 package (12 ounce size) semisweet chocolate chips|2 jar (7 oz size) marshmallow cream|2 teaspoon vanilla extract|2/3 cup bailey irish cream|2 cup chop nut</td>\n",
       "      <td>{'vanilla', 'butter', 'sugar', 'marshmallow', 'chocolate', 'chips', 'cream', 'irish cream', 'evaporated milk', 'milk'}</td>\n",
       "    </tr>\n",
       "    <tr>\n",
       "      <th>47204</th>\n",
       "      <td>7 lb chicken (frying, cut into 8 pieces)|4 tsps salt|4 tsps black pepper (fresh ground)|2 cup all-purpose flour|2 tbsps all-purpose flour|12 cup vegetable oil|2 onion (coarsely chopped)|2 green bell pepper (cored seed and coarsely chopped)|2 stalk celery (coarsely chopped)|2 cup water</td>\n",
       "      <td>{'bell pepper', 'flour', 'onion', 'celery', 'vegetable oil'}</td>\n",
       "    </tr>\n",
       "    <tr>\n",
       "      <th>49819</th>\n",
       "      <td>3 muscovy duck breast (about 1 1/2 pounds)|kosher salt and freshly ground black pepper|serving suggestion: potato rosti and blueberry green peppercorn chutney, recipe follow|special equipment: heavy bottom ovenproof skillet|1 pound yukon gold potatoes|1/4 cup unsalted butter, melted|2 tablespoon chop fresh rosemary|1 tablespoon kosher salt|1 tablespoon freshly ground black pepper|duck fat, for frying|special equipment: a 6-inch cast iron pan|2 cup brown sugar|1/4 cup raspberry vinegar|1/4 cup red wine vinegar|1/4 cup white wine vinegar|4 cup blueberries, fresh or frozen|1 cup mince onion|1/4 cup green peppercorn *|1 lemon, juiced|1 1/2 teaspoon grate fresh ginger|* can be found at specialty food stores.</td>\n",
       "      <td>{'wine vinegar', 'butter', 'sugar', 'ginger', 'rosemary', 'raspberry liquor', 'red onion', 'potato', 'duck', 'blueberries', 'lemon', 'peppercorn'}</td>\n",
       "    </tr>\n",
       "    <tr>\n",
       "      <th>51847</th>\n",
       "      <td>you have get to try this one!!! this be the best tortilla soup and a sure fire crowd pleaser!!!!|3 handful of tortilla chips( can use reduce fat)|1 onion|6 clove of garlic chopped|1 small bunch of cilantro (always use fresh, the taste make all the difference!!!)|2 - 14.5 oz. can of dice tomato ( i even try tomato with garlic and basil, and also tomato with jalapenos)|8 cup chicken broth|14oz. can or freeze corn|3/4 - 1 1/2 tablespoon ground cumin|1/2 - 1 tablespoon chille powder|4 bay leaf (whole)|4 boneless skinless chicken brests|1/2 tsp cayenne pepper|juice of 1 lime (optional) i personally do not use it</td>\n",
       "      <td>{'chicken breast', 'garlic', 'chile powder', 'corn', 'bay leaf', 'onion', 'clove', 'chicken broth', 'lime', 'chips', 'basil', 'tomato', 'ground chicken', 'cayenne', 'cilantro'}</td>\n",
       "    </tr>\n",
       "    <tr>\n",
       "      <th>52703</th>\n",
       "      <td>1 cup pack brown sugar|3/4 cup butter|1 teaspoon maple flavor extract|1 1/2 cup all-purpose flour|1/2 teaspoon vanilla extract|1 egg|1 teaspoon baking soda|2 cup confectioners' sugar|2 tablespoon butter|2 tablespoon milk|1 teaspoon maple flavor extract</td>\n",
       "      <td>{'vanilla', 'confectioners sugar', 'butter', 'sugar', 'flour', 'baking soda', 'eggs', 'milk'}</td>\n",
       "    </tr>\n",
       "    <tr>\n",
       "      <th>55221</th>\n",
       "      <td>4 large shallots, chopped|1 medium carrot, chopped|1 celery rib, chopped|1 (15-ounce) can dice tomatoes, drained|3 large thyme sprigs|1 turkish or 1/2 california bay leaf|2 tablespoon extra-virgin olive oil|1 1/2 pound butternut squash, peeled, seeded, and cut into (1-inch) cube (about 3 1/2 cups)|5 cup water|1/4 teaspoon grate nutmeg|12 bottle cook chestnuts, chop (1/2 cup)|softly whip cream</td>\n",
       "      <td>{'chestnut', 'bay leaf', 'whipped cream', 'shallot', 'celery', 'thyme', 'ground nutmeg', 'olive oil', 'squash', 'carrot'}</td>\n",
       "    </tr>\n",
       "    <tr>\n",
       "      <th>57283</th>\n",
       "      <td>2 teaspoon olive oil|1 (4-pound) boneless chuck roast, trimmed|1 tablespoon kosher salt|1 tablespoon crack black pepper|2 cup coarsely chop onion|2 cup low-salt beef broth|1/4 cup ketchup|2 tablespoon worcestershire sauce|1 cup chop plum tomato|1 1/4 pound small red potatoes|1 pound carrots, peel and cut into 1-inch pieces|2 tablespoon fresh lemon juice|chopped fresh parsley (optional)</td>\n",
       "      <td>{'parsley', 'onion', 'lemon', 'ketchup', 'potato', 'olive oil', 'beef broth', 'carrot', 'eel', 'plum tomatoes'}</td>\n",
       "    </tr>\n",
       "    <tr>\n",
       "      <th>59338</th>\n",
       "      <td>vegetable cooking spray|1 (12 ounce) package refrigerate or thaw freeze bread cook chicken tenders, cut into bite-sized strips|2 large zucchini, cut in half lengthwise and thinly sliced|1 (7 ounce) jar whole roast sweet peppers, drain and thinly sliced|1 cup uncooked quick-cooking brown rice|1 (10.75 ounce) can campbell's&amp;#174; condense cream of celery soup or campbell's&amp;#174; condense 98% fat free cream of celery soup|1 (10.75 ounce) can water|1/2 cup sour cream</td>\n",
       "      <td>{'celery soup', 'cooked chicken', 'zucchini', 'cooking spray', 'sour cream', 'brown rice', 'cream', 'bread'}</td>\n",
       "    </tr>\n",
       "    <tr>\n",
       "      <th>61430</th>\n",
       "      <td>1/2 cup white sugar|1 (0.13 ounce) package unsweetened, fruit-flavored soft drink mix|1 liter lemon-lime flavor carbonate beverage|1/2 cup cold water|1 quart vanilla ice cream</td>\n",
       "      <td>{'vanilla', 'ice cream', 'sugar', 'rose water'}</td>\n",
       "    </tr>\n",
       "    <tr>\n",
       "      <th>61919</th>\n",
       "      <td>1/2 pineapple, cored, peel and cut into 1/4-inch slices|1 mango, deseeded and cut into 1/4-inch pieces|2 tablespoon honey|2 tablespoon lime juice|1 tablespoon chop cilantro leaves|salt|1/2 jalapeno, seeded, minced|1/2 red onion, diced|1/2 anaheim chile, roasted, seed and diced|1/2 red bell pepper, roasted, seed and dice</td>\n",
       "      <td>{'bell pepper', 'honey', 'shallot', 'apple juice', 'mango', 'red onion', 'pineapple', 'cilantro', 'eel'}</td>\n",
       "    </tr>\n",
       "    <tr>\n",
       "      <th>64759</th>\n",
       "      <td>1 egg white|1 tablespoon water|1 pound pecan halves|1 cup white sugar|3/4 teaspoon salt|1/2 teaspoon ground cinnamon</td>\n",
       "      <td>{'sugar', 'shallot', 'cinnamon', 'eggs', 'pecan'}</td>\n",
       "    </tr>\n",
       "    <tr>\n",
       "      <th>67960</th>\n",
       "      <td>chicken thigh, 2 thighs, boneless|louis rich turkey smoke sausage, 2 cups, cut into 1 inch slices|canned dice tomatoes, 1 can|swanson chicken broth 99% fat free, 3 cup|water, 5 cups|okra, frozen/raw, 1 cup slices|onions, raw, 1 cup, chopped|green peppers, 1/2 cup chopped|brown rice, long grain, 1 1/2 cup uncooked|oregano, ground, 1 tsp|red pepper flakes, 1/2 tsp|file' powder 2 tsps|garlic, 1 clove minced|celery salt, 1 tsp|salt and pepper to taste.</td>\n",
       "      <td>{'chicken thighs', 'turkey', 'garlic', 'celery salt', 'red pepper flake', 'clove', 'chicken broth', 'brown rice', 'oregano', 'sausage'}</td>\n",
       "    </tr>\n",
       "    <tr>\n",
       "      <th>68406</th>\n",
       "      <td>10 cup canola oil|2 pound clam strip (about 4 cups)|1 cup buttermilk, well-shaken|1 cup cornstarch|1/2 cup cornmeal (preferably yellow, for color)|1/3 cup unbleached all-purpose flour|1 teaspoon curry powder|1/2 teaspoon celery salt|1/2 teaspoon cayenne|1/2 teaspoon kosher salt|2 lemons|1 1/2 cup fresh flat-leaf parsley sprigs, well-dried and loosely packed|kosher salt, to taste|accompaniment: lemon coriander a&amp;#239;oli</td>\n",
       "      <td>{'flour', 'celery salt', 'cornstarch', 'clam', 'curry powder', 'cayenne', 'buttermilk', 'cornmeal', 'lemon', 'parsley', 'coriander'}</td>\n",
       "    </tr>\n",
       "  </tbody>\n",
       "</table>\n",
       "</div>"
      ],
      "text/plain": [
       "                                                                                                                                                                                                                                                                                                                                                                                                                                                                                                                                                                                                                                                                                                                                                                                                                                                                                                                                                                                                                                                          ingredients_list  \\\n",
       "121    16 ounce water|1/8-ounce yeast|1/2-ounce salt|2 pound bread flour|1/4 cup olive oil|1/4 cup cornmeal|2 cup tomato sauce, jar or homemade|2 cup shred mozzarella|1/2 cup slice mushrooms|1/2 cup spinach, shredded|1/2 cup grate romano|1/2 cup slice pepperoni|1/2 cup grate parmesan                                                                                                                                                                                                                                                                                                                                                                                                                                                                                                                                                                                                                                                                                                                                                                                 \n",
       "176    2 cup sift confectioners' sugar|1/2 cup butter|1 teaspoon vanilla extract|1 1/2 tablespoon milk|2 tablespoon cocoa powder (optional)                                                                                                                                                                                                                                                                                                                                                                                                                                                                                                                                                                                                                                                                                                                                                                                                                                                                                                                                  \n",
       "1119   1 pound french green lentil (recommended: du puy)|1/4 cup olive oil, plus extra for serving|4 cup dice yellow onion (3 large)|4 cup chop leeks, white and light green parts only (2 leeks)|1 tablespoon mince garlic (2 large cloves)|1 tablespoon kosher salt|1 1/2 teaspoon freshly ground black pepper|1 tablespoon mince fresh thyme leaves|1 teaspoon ground cumin|3 cup medium dice celery (8 stalks)|3 cup medium dice carrot (4 to 6 carrots)|3 quart homemade chicken stock, recipe follows, or can broth|1/4 cup tomato paste|1 pound kielbasa, cut in 1/2 lengthwise and slice 1/3-inch thick|2 tablespoon dry red wine or red wine vinegar|freshly grate parmesan, for serving|3 (5-pound) chickens|3 large onions, unpeeled and quartered|6 carrots, unpeeled and halved|4 celery stalk with leaves, cut in thirds|4 parsnips, unpeeled and cut in 1/2, optional|20 sprig fresh flat-leaf parsley|15 sprig fresh thyme|20 sprig fresh dill|1 head garlic, unpeeled and cut in 1/2 crosswise|2 tablespoon kosher salt|2 teaspoon whole black peppercorn   \n",
       "2759   4 eggs|1 1/4 cup vegetable oil|2 cup white sugar|2 teaspoon vanilla extract|2 cup all-purpose flour|2 teaspoon baking soda|2 teaspoon baking powder|1/2 teaspoon salt|2 teaspoon ground cinnamon|3 cup grate carrots|1 cup chop pecans|1/2 cup butter, softened|8 ounce cream cheese, softened|4 cup confectioners' sugar|1 teaspoon vanilla extract|1 cup chop pecan                                                                                                                                                                                                                                                                                                                                                                                                                                                                                                                                                                                                                                                                                                 \n",
       "4429   1 (32 ounce) package freeze hash brown potatoes|8 ounce cooked, dice ham|2 (10.75 ounce) can condense cream of potato soup|1 (16 ounce) container sour cream|2 cup shred sharp cheddar cheese|1 1/2 cup grate parmesan cheese                                                                                                                                                                                                                                                                                                                                                                                                                                                                                                                                                                                                                                                                                                                                                                                                                                         \n",
       "4571   2 (16 ounce) package miniature smoke sausage links|1 (8 ounce) jar grape jelly|1 (12 ounce) bottle barbeque sauce                                                                                                                                                                                                                                                                                                                                                                                                                                                                                                                                                                                                                                                                                                                                                                                                                                                                                                                                                     \n",
       "5500   2 pound sweet potatoes, peel and cut into cubes|1/2 vidalia onion, finely chopped|1 red pepper, seed and finely chopped|4 green onions, thinly sliced|1/3 cup mayonnaise|2 tablespoon orange juice|1 teaspoon smoke paprika|1/2 teaspoon ground cumin|salt and freshly ground black pepper                                                                                                                                                                                                                                                                                                                                                                                                                                                                                                                                                                                                                                                                                                                                                                            \n",
       "6167   1/4 cup dark chocolate chips|1 5/8 ounce butter|1 egg|1/8 cup sugar|1/8 cup flour (plus an extra pinch or two)                                                                                                                                                                                                                                                                                                                                                                                                                                                                                                                                                                                                                                                                                                                                                                                                                                                                                                                                                        \n",
       "6200   2 1/2 cup chicken broth (swanson regular, natural goodness or certify organic)|1 dash ground black pepper, generous dash|2 stalk celery, coarsely chopped|1 large onion, coarsely chopped|1 (16 ounce) package herb season stuffing mix, pepperidge farm brand recommend                                                                                                                                                                                                                                                                                                                                                                                                                                                                                                                                                                                                                                                                                                                                                                                              \n",
       "7835   3 medium beets, peel and cut into 1 inch cubes|1 large turnip, peel and cubed|1 cup pearl onions, peeled|1/4 cup olive oil|1/2 teaspoon dry rosemary|salt to taste                                                                                                                                                                                                                                                                                                                                                                                                                                                                                                                                                                                                                                                                                                                                                                                                                                                                                                    \n",
       "8519   1 (3 pound) whole chicken|1 onion, quartered|2 slice lemon|salt and pepper to taste|3 cup water|1 bay leaf|1/2 teaspoon dry thyme|2 cup all-purpose flour|3 tablespoon shortening|1 teaspoon salt|1/4 cup water                                                                                                                                                                                                                                                                                                                                                                                                                                                                                                                                                                                                                                                                                                                                                                                                                                                       \n",
       "10133  2 cup dry chicken stove top stuffing mix (from the canister)|2 cup milk|1 1/2 cup cube ham (or use bob evans sausage, cooked, drain well, and crumbled)|6 eggs, beaten|1 cup cheddar cheese, shredded|1/2 teaspoon salt                                                                                                                                                                                                                                                                                                                                                                                                                                                                                                                                                                                                                                                                                                                                                                                                                                               \n",
       "10166  1/3 cup olive oil|12 medium mushrooms, clean and quartered|6 clove garlic, thinly sliced|1 lemon, juiced                                                                                                                                                                                                                                                                                                                                                                                                                                                                                                                                                                                                                                                                                                                                                                                                                                                                                                                                                              \n",
       "10779  12 oz creme de menthe|2 ozs tequila|12 oz triple sec|2 ozs sour mix (prepared)                                                                                                                                                                                                                                                                                                                                                                                                                                                                                                                                                                                                                                                                                                                                                                                                                                                                                                                                                                                        \n",
       "14250  1/2 cup(s) cider vinegar|1/4 cup(s) extra-virgin olive oil|3/4 teaspoon(s) kosher salt|1/4 cup(s) chop shallot|2 clove(s) garlic|2 pound(s) boneless, skinless chicken thighs|1 cup(s) applewood chips, or you may substitute maple or hickory chips                                                                                                                                                                                                                                                                                                                                                                                                                                                                                                                                                                                                                                                                                                                                                                                                                  \n",
       "15336  1 cup coconut oil, liquefied|2/3-3/4 cup carob powder|2 tablespoon vanilla extract                                                                                                                                                                                                                                                                                                                                                                                                                                                                                                                                                                                                                                                                                                                                                                                                                                                                                                                                                                                    \n",
       "19690  coarse salt|ground pepper|6.00 tablespoon(s) butter|1.00 pound(s) white mushrooms, trim and slice 1 inch thick|0.50 cup(s) all-purpose flour|3.00 cup(s) milk|1.00 can(s) (14 1/2-ounce) reduced-sodium chicken broth|3/4 cup(s) dry white wine|3.00 cup(s) grate parmesan cheese|0.50 teaspoon(s) dry thyme leaves|1.00 pound(s) linguine, break in half|1.00 rotisserie chicken, skin removed, meat shred (about 4 cups)|1.00 package(s) (10-ounce) freeze peas, thaw and drain                                                                                                                                                                                                                                                                                                                                                                                                                                                                                                                                                                                     \n",
       "24926  1 (18 ounce) box chocolate cake mix|1 (3 ounce) box instant chocolate pudding mix|1/2 cup rum|4 eggs|1/2 cup low-fat milk|1/2 cup canola oil|1 cup semi-sweet chocolate chips|4 tablespoon butter|1/2 cup rum|1/2 cup sugar|1/4 teaspoon vanilla                                                                                                                                                                                                                                                                                                                                                                                                                                                                                                                                                                                                                                                                                                                                                                                                                      \n",
       "25203  3 1/2 cup all-purpose flour|2 teaspoon baking soda|1 teaspoon salt|1/2 teaspoon baking powder|3 cup white sugar|1 teaspoon ground cinnamon|1 teaspoon pumpkin pie spice|1 cup applesauce|4 eggs, lightly beaten|1 (15 ounce) can pumpkin puree|1/4 cup water|1/2 cup chop walnut (optional)                                                                                                                                                                                                                                                                                                                                                                                                                                                                                                                                                                                                                                                                                                                                                                           \n",
       "25244  1/2 cup vinegar|1/4 cup oil|1 teaspoon salt|1/4 cup white sugar|1 teaspoon celery seed|1 (8 ounce) package coleslaw mix or 1 (8 ounce) package broccoli coleslaw mix|1 (8 ounce) container pico de gallo (or you can make your own)                                                                                                                                                                                                                                                                                                                                                                                                                                                                                                                                                                                                                                                                                                                                                                                                                                   \n",
       "26866  1/4 cup butter|1 cup chop shiitake mushrooms|1 cup chop portobello mushrooms|2 shallots, chopped|2 tablespoon all-purpose flour|1 (14.5 ounce) can chicken broth|1 cup half-and-half|salt and pepper to taste|1 pinch ground cinnamon (optional)                                                                                                                                                                                                                                                                                                                                                                                                                                                                                                                                                                                                                                                                                                                                                                                                                      \n",
       "28403  1 1/2 cup finely chop onion|2 large garlic cloves, minced|1 1/2 tablespoon mince pickle jalape&ntilde;o chilies, or to taste|1 teaspoon ground coriander|1 1/2 teaspoon ground cumin|1/4 cup unsalted butter|1/4 cup all-purpose flour|4 cup milk|a 28-ounce can plum tomatoes, the juice discard and the tomato chop and drain well|cayenne to taste if desired|1 pound elbow macaroni|1 1/2 cup coarsely grate monterey jack (about 6 ounces)|1 1/2 cup coarsely grate extra-sharp cheddar (about 6 ounces)|1 1/2 cup fresh bread crumbs|1 1/3 cup freshly grate parmesan (about 1/4 pound)                                                                                                                                                                                                                                                                                                                                                                                                                                                                         \n",
       "29379  centers:|2 ounce ghirardelli 60% cacao bittersweet chocolate baking bar, break or chop into 1-inch pieces|1/4 cup heavy cream|cakes:|4 ounce ghirardelli 60% cacao bittersweet chocolate baking bar, break or chop into 1-inch pieces|1/2 cup unsalted butter, cut into pieces|2 large whole eggs|2 large egg yolks|1/3 cup granulate white sugar|1/2 teaspoon pure vanilla extract|1/4 cup cake flour|raspberries for garnish|whipped cream for garnish                                                                                                                                                                                                                                                                                                                                                                                                                                                                                                                                                                                                              \n",
       "30137  2 (7 ounce) can salmon, drained|2 tablespoon fat-free mayonnaise|2 tablespoon plain low-fat yogurt|1 cup chop celery|2 tablespoon capers|1/8 teaspoon ground black pepper|8 leaf lettuce                                                                                                                                                                                                                                                                                                                                                                                                                                                                                                                                                                                                                                                                                                                                                                                                                                                                              \n",
       "30513  1 teaspoon canola oil|1/2 cup mince onion|1/2 cup mince red bell pepper|1 clove garlic, minced|1 teaspoon ground cumin|3/4 teaspoon ground coriander|1/2 teaspoon curry powder|1/2 cup light coconut milk|1 teaspoon sugar|1/4 teaspoon crush red pepper flakes|1 pound jumbo shrimp, peel and deveined|1 tablespoon cornstarch|1 tablespoon water|2 tablespoon chop fresh cilantro                                                                                                                                                                                                                                                                                                                                                                                                                                                                                                                                                                                                                                                                                   \n",
       "32736  3/4 cup butter|3 cup pack light brown sugar|3 eggs, beaten|1 1/2 teaspoon vanilla extract|3 cup chop pecans|3 cup self-rising flour                                                                                                                                                                                                                                                                                                                                                                                                                                                                                                                                                                                                                                                                                                                                                                                                                                                                                                                                   \n",
       "32927  red wine - 12 ounces|3 slice oranges|1 cup fresh or freeze raspberries|12 ounce sierra mist free                                                                                                                                                                                                                                                                                                                                                                                                                                                                                                                                                                                                                                                                                                                                                                                                                                                                                                                                                                      \n",
       "33046  2 cup all-purpose biscuit baking mix|1 (8 ounce) container plain yogurt                                                                                                                                                                                                                                                                                                                                                                                                                                                                                                                                                                                                                                                                                                                                                                                                                                                                                                                                                                                               \n",
       "33476  1 tablespoon apple cider vinegar (i use braggs)|1 tablespoon honey                                                                                                                                                                                                                                                                                                                                                                                                                                                                                                                                                                                                                                                                                                                                                                                                                                                                                                                                                                                                    \n",
       "36266  2 ripe tomatoes, diced|2 green bell peppers, diced|1 white onion, diced|1/2 bunch fresh cilantro, for garnish|1 tablespoon fresh lemon juice|1 jalapeno chile pepper, dice                                                                                                                                                                                                                                                                                                                                                                                                                                                                                                                                                                                                                                                                                                                                                                                                                                                                                            \n",
       "37811  1 – box whole wheat lasagna pasta|2 cup homemade or ½ jar of a chunky garden italian sauce|1 8 0z bag fat free shred mozzarella {save 3 heap spoons}|{vegan use veggie shred } {save 3 heap spoons}|1 - 16 oz tub low fat cottage cheese {vegan use soy yogurt, drain into a lightweight cotton cloth. twist the cloth into a ball and tie with thin string. hang this over sink or pot for ½ hour}|10 – 12 oz bag fresh spinach {save a few leaves}|cooking spray|½ cup water                                                                                                                                                                                                                                                                                                                                                                                                                                                                                                                                                                                        \n",
       "39285  3 cup old-fashioned oat (9 ounces)|1 cup slice almond with skin (1/4 pound)|1/4 cup sesame seeds|6 tablespoon vegetable oil|6 tablespoon mild honey|1 teaspoon ground cardamom|1/2 cup dry apricots, finely chopped|1/2 cup dry pears, finely chopped|accompaniments: greek-style yogurt                                                                                                                                                                                                                                                                                                                                                                                                                                                                                                                                                                                                                                                                                                                                                                              \n",
       "41386  1/4 cup flour|1 teaspoon salt|1/4 teaspoon pepper|2 tablespoon mince onions|1/2 teaspoon paprika|3 cup milk|1 cup of grate cheddar cheese (or your favourite kind of cheese)|2 cup uncooked elbow macaroni                                                                                                                                                                                                                                                                                                                                                                                                                                                                                                                                                                                                                                                                                                                                                                                                                                                            \n",
       "43169  3 cup chill heavy cream|1/2 cup sugar, plus|1 tablespoon sugar (total of 9 tablespoons)|1 cup mascarpone cheese, at room temperature|1 (9 ounce) box chocolate wafers, such as nabisco famous|1 tablespoon instant espresso powder                                                                                                                                                                                                                                                                                                                                                                                                                                                                                                                                                                                                                                                                                                                                                                                                                                    \n",
       "44290  1 (19 7/8 ounce) box betty crocker fudge brownie mix|2 large eggs|1/4 cup water|1/2 cup vegetable oil|2 (7 ounce) hershey symphony milk chocolate candy bars                                                                                                                                                                                                                                                                                                                                                                                                                                                                                                                                                                                                                                                                                                                                                                                                                                                                                                          \n",
       "45548  1 tablespoon olive oil|1 onion, chopped|1 celery rib, chopped|1 tablespoon crush garlic|1 teaspoon thyme|1 (14.5 ounce) can black beans, drained|8 cup vegetable broth, divided|1 teaspoon ground cumin|1 (14.5 ounce) can white beans, drained|1/2 teaspoon dry sage                                                                                                                                                                                                                                                                                                                                                                                                                                                                                                                                                                                                                                                                                                                                                                                                 \n",
       "46248  3 cup cook and mash sweet potatoes, from about 2 to 3 small bake potatoes|1 cup granulate sugar|3 eggs, beaten|1/2 cup milk|8 tablespoon unsalted butter, about 1 stick, melted|1 tablespoon vanilla extract|1/2 teaspoon salt|1 cup pack light brown sugar|4 tablespoon unsalted butter, about 1/2 stick, cubed, at room temperature|1/2 cup self-rising cake flour|1 cup chop pecan                                                                                                                                                                                                                                                                                                                                                                                                                                                                                                                                                                                                                                                                                 \n",
       "46357  4 1/2 cup sugar|1 can (12 ounce size) evaporate milk|1 cup butter|2 package (12 oz size) milk chocolate chips|1 package (12 ounce size) semisweet chocolate chips|2 jar (7 oz size) marshmallow cream|2 teaspoon vanilla extract|2/3 cup bailey irish cream|2 cup chop nut                                                                                                                                                                                                                                                                                                                                                                                                                                                                                                                                                                                                                                                                                                                                                                                            \n",
       "47204  7 lb chicken (frying, cut into 8 pieces)|4 tsps salt|4 tsps black pepper (fresh ground)|2 cup all-purpose flour|2 tbsps all-purpose flour|12 cup vegetable oil|2 onion (coarsely chopped)|2 green bell pepper (cored seed and coarsely chopped)|2 stalk celery (coarsely chopped)|2 cup water                                                                                                                                                                                                                                                                                                                                                                                                                                                                                                                                                                                                                                                                                                                                                                         \n",
       "49819  3 muscovy duck breast (about 1 1/2 pounds)|kosher salt and freshly ground black pepper|serving suggestion: potato rosti and blueberry green peppercorn chutney, recipe follow|special equipment: heavy bottom ovenproof skillet|1 pound yukon gold potatoes|1/4 cup unsalted butter, melted|2 tablespoon chop fresh rosemary|1 tablespoon kosher salt|1 tablespoon freshly ground black pepper|duck fat, for frying|special equipment: a 6-inch cast iron pan|2 cup brown sugar|1/4 cup raspberry vinegar|1/4 cup red wine vinegar|1/4 cup white wine vinegar|4 cup blueberries, fresh or frozen|1 cup mince onion|1/4 cup green peppercorn *|1 lemon, juiced|1 1/2 teaspoon grate fresh ginger|* can be found at specialty food stores.                                                                                                                                                                                                                                                                                                                              \n",
       "51847  you have get to try this one!!! this be the best tortilla soup and a sure fire crowd pleaser!!!!|3 handful of tortilla chips( can use reduce fat)|1 onion|6 clove of garlic chopped|1 small bunch of cilantro (always use fresh, the taste make all the difference!!!)|2 - 14.5 oz. can of dice tomato ( i even try tomato with garlic and basil, and also tomato with jalapenos)|8 cup chicken broth|14oz. can or freeze corn|3/4 - 1 1/2 tablespoon ground cumin|1/2 - 1 tablespoon chille powder|4 bay leaf (whole)|4 boneless skinless chicken brests|1/2 tsp cayenne pepper|juice of 1 lime (optional) i personally do not use it                                                                                                                                                                                                                                                                                                                                                                                                                                \n",
       "52703  1 cup pack brown sugar|3/4 cup butter|1 teaspoon maple flavor extract|1 1/2 cup all-purpose flour|1/2 teaspoon vanilla extract|1 egg|1 teaspoon baking soda|2 cup confectioners' sugar|2 tablespoon butter|2 tablespoon milk|1 teaspoon maple flavor extract                                                                                                                                                                                                                                                                                                                                                                                                                                                                                                                                                                                                                                                                                                                                                                                                          \n",
       "55221  4 large shallots, chopped|1 medium carrot, chopped|1 celery rib, chopped|1 (15-ounce) can dice tomatoes, drained|3 large thyme sprigs|1 turkish or 1/2 california bay leaf|2 tablespoon extra-virgin olive oil|1 1/2 pound butternut squash, peeled, seeded, and cut into (1-inch) cube (about 3 1/2 cups)|5 cup water|1/4 teaspoon grate nutmeg|12 bottle cook chestnuts, chop (1/2 cup)|softly whip cream                                                                                                                                                                                                                                                                                                                                                                                                                                                                                                                                                                                                                                                           \n",
       "57283  2 teaspoon olive oil|1 (4-pound) boneless chuck roast, trimmed|1 tablespoon kosher salt|1 tablespoon crack black pepper|2 cup coarsely chop onion|2 cup low-salt beef broth|1/4 cup ketchup|2 tablespoon worcestershire sauce|1 cup chop plum tomato|1 1/4 pound small red potatoes|1 pound carrots, peel and cut into 1-inch pieces|2 tablespoon fresh lemon juice|chopped fresh parsley (optional)                                                                                                                                                                                                                                                                                                                                                                                                                                                                                                                                                                                                                                                                  \n",
       "59338  vegetable cooking spray|1 (12 ounce) package refrigerate or thaw freeze bread cook chicken tenders, cut into bite-sized strips|2 large zucchini, cut in half lengthwise and thinly sliced|1 (7 ounce) jar whole roast sweet peppers, drain and thinly sliced|1 cup uncooked quick-cooking brown rice|1 (10.75 ounce) can campbell's&#174; condense cream of celery soup or campbell's&#174; condense 98% fat free cream of celery soup|1 (10.75 ounce) can water|1/2 cup sour cream                                                                                                                                                                                                                                                                                                                                                                                                                                                                                                                                                                                   \n",
       "61430  1/2 cup white sugar|1 (0.13 ounce) package unsweetened, fruit-flavored soft drink mix|1 liter lemon-lime flavor carbonate beverage|1/2 cup cold water|1 quart vanilla ice cream                                                                                                                                                                                                                                                                                                                                                                                                                                                                                                                                                                                                                                                                                                                                                                                                                                                                                       \n",
       "61919  1/2 pineapple, cored, peel and cut into 1/4-inch slices|1 mango, deseeded and cut into 1/4-inch pieces|2 tablespoon honey|2 tablespoon lime juice|1 tablespoon chop cilantro leaves|salt|1/2 jalapeno, seeded, minced|1/2 red onion, diced|1/2 anaheim chile, roasted, seed and diced|1/2 red bell pepper, roasted, seed and dice                                                                                                                                                                                                                                                                                                                                                                                                                                                                                                                                                                                                                                                                                                                                     \n",
       "64759  1 egg white|1 tablespoon water|1 pound pecan halves|1 cup white sugar|3/4 teaspoon salt|1/2 teaspoon ground cinnamon                                                                                                                                                                                                                                                                                                                                                                                                                                                                                                                                                                                                                                                                                                                                                                                                                                                                                                                                                  \n",
       "67960  chicken thigh, 2 thighs, boneless|louis rich turkey smoke sausage, 2 cups, cut into 1 inch slices|canned dice tomatoes, 1 can|swanson chicken broth 99% fat free, 3 cup|water, 5 cups|okra, frozen/raw, 1 cup slices|onions, raw, 1 cup, chopped|green peppers, 1/2 cup chopped|brown rice, long grain, 1 1/2 cup uncooked|oregano, ground, 1 tsp|red pepper flakes, 1/2 tsp|file' powder 2 tsps|garlic, 1 clove minced|celery salt, 1 tsp|salt and pepper to taste.                                                                                                                                                                                                                                                                                                                                                                                                                                                                                                                                                                                                  \n",
       "68406  10 cup canola oil|2 pound clam strip (about 4 cups)|1 cup buttermilk, well-shaken|1 cup cornstarch|1/2 cup cornmeal (preferably yellow, for color)|1/3 cup unbleached all-purpose flour|1 teaspoon curry powder|1/2 teaspoon celery salt|1/2 teaspoon cayenne|1/2 teaspoon kosher salt|2 lemons|1 1/2 cup fresh flat-leaf parsley sprigs, well-dried and loosely packed|kosher salt, to taste|accompaniment: lemon coriander a&#239;oli                                                                                                                                                                                                                                                                                                                                                                                                                                                                                                                                                                                                                               \n",
       "\n",
       "                                                                                                                                                                                            standardized  \n",
       "121    {'olive oil', 'pepperoni', 'parmesan', 'shallot', 'romano', 'tomato sauce', 'spinach', 'mozzarella', 'mushroom', 'bread flour', 'cornmeal', 'yeast'}                                               \n",
       "176    {'confectioners sugar', 'butter', 'milk', 'vanilla'}                                                                                                                                               \n",
       "1119   {'ground chicken', 'chicken soup', 'garlic', 'celery salt', 'parmesan', 'parsley', 'onion', 'dill', 'thyme', 'celery', 'lentil', 'olive oil', 'red wine', 'carrot', 'tomato paste', 'peppercorn'}  \n",
       "2759   {'vanilla', 'confectioners sugar', 'butter', 'sugar', 'flour', 'baking powder', 'shallot', 'baking soda', 'cinnamon', 'eggs', 'pecan', 'cream cheese', 'carrot', 'vegetable oil'}                  \n",
       "4429   {'parmesan', 'sour cream', 'potato', 'cream', 'cheddar', 'ham'}                                                                                                                                    \n",
       "4571   {'grape', 'sausage'}                                                                                                                                                                               \n",
       "5500   {'sweet potato', 'onion', 'orange juice', 'paprika', 'mayonnaise', 'ground chicken', 'eel'}                                                                                                        \n",
       "6167   {'butter', 'sugar', 'flour', 'chocolate', 'chips', 'eggs'}                                                                                                                                         \n",
       "6200   {'dashi', 'onion', 'celery', 'chicken broth', 'stuffing mix', 'brandy', 'herbs'}                                                                                                                   \n",
       "7835   {'pear', 'olive oil', 'eel', 'rosemary'}                                                                                                                                                           \n",
       "8519   {'flour', 'bay leaf', 'onion', 'whole chicken', 'shallot', 'thyme', 'lemon', 'shortening'}                                                                                                         \n",
       "10133  {'shallot', 'eggs', 'stuffing mix', 'sausage', 'cheddar', 'milk', 'ham'}                                                                                                                           \n",
       "10166  {'garlic', 'clove', 'mushroom', 'olive oil', 'lemon'}                                                                                                                                              \n",
       "10779  {'creme de menthe', 'triple sec', 'tequila'}                                                                                                                                                       \n",
       "14250  {'chicken thighs', 'garlic', 'shallot', 'chips', 'cider vinegar', 'olive oil'}                                                                                                                     \n",
       "15336  {'vanilla', 'coconut', 'curry powder'}                                                                                                                                                             \n",
       "19690  {'butter', 'flour', 'parmesan', 'peas', 'white wine', 'chicken broth', 'thyme', 'mushroom', 'milk', 'ground pork'}                                                                                 \n",
       "24926  {'vanilla', 'butter', 'sugar', 'chocolate', 'rum', 'chips', 'pudding mix', 'eggs', 'cake mix', 'milk'}                                                                                             \n",
       "25203  {'flour', 'sugar', 'baking powder', 'apple sauce', 'pike', 'shallot', 'baking soda', 'cinnamon', 'pumpkin', 'eggs', 'walnut'}                                                                      \n",
       "25244  {'sugar', 'shallot', 'broccoli', 'vinegar', 'celery seed'}                                                                                                                                         \n",
       "26866  {'butter', 'flour', 'shallot', 'chicken broth', 'cinnamon', 'mushroom'}                                                                                                                            \n",
       "28403  {'apple butter', 'ground coriander', 'flour', 'garlic', 'macaroon', 'parmesan', 'onion', 'bread crumbs', 'cayenne', 'tomato', 'ground chicken', 'pickle', 'cheddar', 'milk', 'plum tomatoes'}      \n",
       "29379  {'cacao', 'vanilla', 'butter', 'sugar', 'flour', 'whipped cream', 'eggs', 'bittersweet chocolate', 'ice cream', 'raspberries'}                                                                     \n",
       "30137  {'yogurt', 'salmon', 'celery', 'mayonnaise'}                                                                                                                                                       \n",
       "30513  {'bell pepper', 'ground coriander', 'sugar', 'garlic', 'shrimp', 'red pepper flake', 'cornstarch', 'clove', 'red onion', 'curry powder', 'cilantro', 'coconut milk', 'ground chicken', 'eel'}      \n",
       "32736  {'vanilla', 'butter', 'sugar', 'eggs', 'pecan', 'self rising flour'}                                                                                                                               \n",
       "32927  {'raspberries', 'red wine', 'orange'}                                                                                                                                                              \n",
       "33046  {'yogurt', 'biscuits'}                                                                                                                                                                             \n",
       "33476  {'honey', 'apple cider vinegar'}                                                                                                                                                                   \n",
       "36266  {'bell pepper', 'onion', 'chili pepper', 'lemon', 'cilantro', 'tomato juice'}                                                                                                                      \n",
       "37811  {'cottage cheese', 'cooking spray', 'rose water', 'lasagne', 'spinach', 'mozzarella', 'wheat', 'yogurt', 'pasta'}                                                                                  \n",
       "39285  {'honey', 'sesame seed', 'cardamom', 'almond', 'yogurt', 'apricot', 'vegetable oil'}                                                                                                               \n",
       "41386  {'flour', 'pepperoni', 'macaroon', 'onion', 'shallot', 'paprika', 'cheddar', 'milk'}                                                                                                               \n",
       "43169  {'sugar', 'chocolate', 'mascarpone', 'cream', 'espresso'}                                                                                                                                          \n",
       "44290  {'chocolate', 'cracker', 'eggs', 'milk', 'vegetable oil'}                                                                                                                                          \n",
       "45548  {'ground chicken', 'garlic', 'onion', 'celery', 'thyme', 'black beans', 'olive oil', 'sage'}                                                                                                       \n",
       "46248  {'vanilla', 'butter', 'sugar', 'sweet potato', 'shallot', 'potato', 'eggs', 'pecan', 'self rising flour', 'milk'}                                                                                  \n",
       "46357  {'vanilla', 'butter', 'sugar', 'marshmallow', 'chocolate', 'chips', 'cream', 'irish cream', 'evaporated milk', 'milk'}                                                                             \n",
       "47204  {'bell pepper', 'flour', 'onion', 'celery', 'vegetable oil'}                                                                                                                                       \n",
       "49819  {'wine vinegar', 'butter', 'sugar', 'ginger', 'rosemary', 'raspberry liquor', 'red onion', 'potato', 'duck', 'blueberries', 'lemon', 'peppercorn'}                                                 \n",
       "51847  {'chicken breast', 'garlic', 'chile powder', 'corn', 'bay leaf', 'onion', 'clove', 'chicken broth', 'lime', 'chips', 'basil', 'tomato', 'ground chicken', 'cayenne', 'cilantro'}                   \n",
       "52703  {'vanilla', 'confectioners sugar', 'butter', 'sugar', 'flour', 'baking soda', 'eggs', 'milk'}                                                                                                      \n",
       "55221  {'chestnut', 'bay leaf', 'whipped cream', 'shallot', 'celery', 'thyme', 'ground nutmeg', 'olive oil', 'squash', 'carrot'}                                                                          \n",
       "57283  {'parsley', 'onion', 'lemon', 'ketchup', 'potato', 'olive oil', 'beef broth', 'carrot', 'eel', 'plum tomatoes'}                                                                                    \n",
       "59338  {'celery soup', 'cooked chicken', 'zucchini', 'cooking spray', 'sour cream', 'brown rice', 'cream', 'bread'}                                                                                       \n",
       "61430  {'vanilla', 'ice cream', 'sugar', 'rose water'}                                                                                                                                                    \n",
       "61919  {'bell pepper', 'honey', 'shallot', 'apple juice', 'mango', 'red onion', 'pineapple', 'cilantro', 'eel'}                                                                                           \n",
       "64759  {'sugar', 'shallot', 'cinnamon', 'eggs', 'pecan'}                                                                                                                                                  \n",
       "67960  {'chicken thighs', 'turkey', 'garlic', 'celery salt', 'red pepper flake', 'clove', 'chicken broth', 'brown rice', 'oregano', 'sausage'}                                                            \n",
       "68406  {'flour', 'celery salt', 'cornstarch', 'clam', 'curry powder', 'cayenne', 'buttermilk', 'cornmeal', 'lemon', 'parsley', 'coriander'}                                                               "
      ]
     },
     "execution_count": 20,
     "metadata": {},
     "output_type": "execute_result"
    }
   ],
   "source": [
    "pd.set_option('display.max_colwidth', -1)\n",
    "subDf=pd.DataFrame(infoDf[\"ingredients_list\"])\n",
    "subDf[\"standardized\"]=cleaned\n",
    "subDf.dropna(axis=0)"
   ]
  },
  {
   "cell_type": "code",
   "execution_count": 21,
   "metadata": {
    "collapsed": true
   },
   "outputs": [],
   "source": [
    "#UNCOMMENT THIS IF YOU WANT TO GENERATE THE FINAL DF YOURSELF\n",
    "#cleanedFinal=infoDf[\"ingredients_list\"].apply(finalClean)\n",
    "#cleanedFinal.to_csv(\"cleanedFinal.csv\")\n",
    "#infoDf[\"finalIngredients\"]=cleanedFinal\n",
    "#infoDf.to_csv(\"finalDF.csv\")"
   ]
  },
  {
   "cell_type": "code",
   "execution_count": 22,
   "metadata": {
    "collapsed": true
   },
   "outputs": [],
   "source": [
    "finalDf=pd.read_csv(\"finalDF.csv\")"
   ]
  },
  {
   "cell_type": "markdown",
   "metadata": {},
   "source": [
    "## 3. WHAT CAN WE DO WITH THE DATA? "
   ]
  },
  {
   "cell_type": "markdown",
   "metadata": {},
   "source": [
    "Now that we have the final form of the data we are going the use it is time to explore the data. We will first perform an exploretary analysis in which we try to get an idea of how the ingredients are distributed over the different recipies.<br>\n",
    "Using the results of our exploretary analysis we will have another look at our goals and decide which goals we want to fullfill."
   ]
  },
  {
   "cell_type": "markdown",
   "metadata": {},
   "source": [
    "### 3.1 EXPLORETARY ANALYSIS"
   ]
  },
  {
   "cell_type": "markdown",
   "metadata": {},
   "source": [
    "#### 3.1.1.Frequency analysis"
   ]
  },
  {
   "cell_type": "markdown",
   "metadata": {},
   "source": [
    "The thing we'll look at here is the standardized column of the finalDF."
   ]
  },
  {
   "cell_type": "code",
   "execution_count": 23,
   "metadata": {},
   "outputs": [],
   "source": [
    "data = pd.DataFrame.from_csv('finalDF.csv')\n",
    "data = data['finalIngredients']\n",
    "ingredientSets=[eval(data[n]) for n in list(data.keys())]\n",
    "#Make a list of all the ingredients\n",
    "allIngredientsList=[]\n",
    "for st in ingredientSets:\n",
    "    allIngredientsList=allIngredientsList+list(st)"
   ]
  },
  {
   "cell_type": "markdown",
   "metadata": {},
   "source": [
    "Let's plot a count of these ingredients note that the scale is exponentional which means that the frequency of an ingredient is almost exponential"
   ]
  },
  {
   "cell_type": "code",
   "execution_count": 24,
   "metadata": {},
   "outputs": [
    {
     "data": {
      "text/html": [
       "<div>\n",
       "<style>\n",
       "    .dataframe thead tr:only-child th {\n",
       "        text-align: right;\n",
       "    }\n",
       "\n",
       "    .dataframe thead th {\n",
       "        text-align: left;\n",
       "    }\n",
       "\n",
       "    .dataframe tbody tr th {\n",
       "        vertical-align: top;\n",
       "    }\n",
       "</style>\n",
       "<table border=\"1\" class=\"dataframe\">\n",
       "  <thead>\n",
       "    <tr style=\"text-align: right;\">\n",
       "      <th></th>\n",
       "      <th>Frequency of ingredients</th>\n",
       "    </tr>\n",
       "  </thead>\n",
       "  <tbody>\n",
       "    <tr>\n",
       "      <th>sugar</th>\n",
       "      <td>17809</td>\n",
       "    </tr>\n",
       "    <tr>\n",
       "      <th>shallot</th>\n",
       "      <td>15487</td>\n",
       "    </tr>\n",
       "    <tr>\n",
       "      <th>butter</th>\n",
       "      <td>14711</td>\n",
       "    </tr>\n",
       "    <tr>\n",
       "      <th>eggs</th>\n",
       "      <td>13198</td>\n",
       "    </tr>\n",
       "    <tr>\n",
       "      <th>garlic</th>\n",
       "      <td>12475</td>\n",
       "    </tr>\n",
       "    <tr>\n",
       "      <th>flour</th>\n",
       "      <td>11998</td>\n",
       "    </tr>\n",
       "    <tr>\n",
       "      <th>onion</th>\n",
       "      <td>11690</td>\n",
       "    </tr>\n",
       "    <tr>\n",
       "      <th>olive oil</th>\n",
       "      <td>9410</td>\n",
       "    </tr>\n",
       "    <tr>\n",
       "      <th>clove</th>\n",
       "      <td>7879</td>\n",
       "    </tr>\n",
       "    <tr>\n",
       "      <th>vanilla</th>\n",
       "      <td>7411</td>\n",
       "    </tr>\n",
       "    <tr>\n",
       "      <th>milk</th>\n",
       "      <td>6957</td>\n",
       "    </tr>\n",
       "    <tr>\n",
       "      <th>vegetable oil</th>\n",
       "      <td>5302</td>\n",
       "    </tr>\n",
       "    <tr>\n",
       "      <th>lemon</th>\n",
       "      <td>5139</td>\n",
       "    </tr>\n",
       "    <tr>\n",
       "      <th>bell pepper</th>\n",
       "      <td>5138</td>\n",
       "    </tr>\n",
       "    <tr>\n",
       "      <th>cinnamon</th>\n",
       "      <td>4793</td>\n",
       "    </tr>\n",
       "    <tr>\n",
       "      <th>parsley</th>\n",
       "      <td>4647</td>\n",
       "    </tr>\n",
       "    <tr>\n",
       "      <th>eel</th>\n",
       "      <td>4376</td>\n",
       "    </tr>\n",
       "    <tr>\n",
       "      <th>baking powder</th>\n",
       "      <td>3927</td>\n",
       "    </tr>\n",
       "    <tr>\n",
       "      <th>carrot</th>\n",
       "      <td>3628</td>\n",
       "    </tr>\n",
       "    <tr>\n",
       "      <th>baking soda</th>\n",
       "      <td>3466</td>\n",
       "    </tr>\n",
       "  </tbody>\n",
       "</table>\n",
       "</div>"
      ],
      "text/plain": [
       "               Frequency of ingredients\n",
       "sugar          17809                   \n",
       "shallot        15487                   \n",
       "butter         14711                   \n",
       "eggs           13198                   \n",
       "garlic         12475                   \n",
       "flour          11998                   \n",
       "onion          11690                   \n",
       "olive oil      9410                    \n",
       "clove          7879                    \n",
       "vanilla        7411                    \n",
       "milk           6957                    \n",
       "vegetable oil  5302                    \n",
       "lemon          5139                    \n",
       "bell pepper    5138                    \n",
       "cinnamon       4793                    \n",
       "parsley        4647                    \n",
       "eel            4376                    \n",
       "baking powder  3927                    \n",
       "carrot         3628                    \n",
       "baking soda    3466                    "
      ]
     },
     "execution_count": 24,
     "metadata": {},
     "output_type": "execute_result"
    }
   ],
   "source": [
    "from collections import Counter\n",
    "import matplotlib.pyplot as plt\n",
    "countedSeries=pd.Series(Counter(allIngredientsList))\n",
    "plt.close()\n",
    "countedSeries.sort_values(ascending=False,inplace=True)\n",
    "frequency_table=countedSeries.to_frame(\"Frequency of ingredients\")\n",
    "frequency_table.head(20)\n"
   ]
  },
  {
   "cell_type": "code",
   "execution_count": 25,
   "metadata": {},
   "outputs": [
    {
     "data": {
      "image/png": "[encoded data removed]",
      "text/plain": [
       "<matplotlib.figure.Figure at 0x12d94b2b0>"
      ]
     },
     "metadata": {},
     "output_type": "display_data"
    }
   ],
   "source": [
    "plt.close()\n",
    "frequency_table.plot(logy=True)\n",
    "plt.title('Frequencies of Ingredient ')\n",
    "plt.show()"
   ]
  },
  {
   "cell_type": "markdown",
   "metadata": {},
   "source": [
    "We see an exponential behavior which indicates that some ingredients are used way more often used than other."
   ]
  },
  {
   "cell_type": "markdown",
   "metadata": {},
   "source": [
    "#### 3.1.2 What about the associations?"
   ]
  },
  {
   "cell_type": "markdown",
   "metadata": {},
   "source": [
    "In our research questions we talk a lot about associations. We quickly take a look at whether or not these associations indeed exist in our data. This will be done by using the <b>apriori algorithm</b>. The goal of the algorithm is to find associations between ingredients and to get an dea of how the variables are distributed.\n",
    "Using the apriori algorithm we can get the following ideas about the ingredients\n",
    "-  Support: indiciates the ratio of in how many percent of the recepies it appeared\n",
    "-  Confidence: Expresses how likely one ingredient is used given that another ingredient is used\n",
    "-  Lift: Expresses how likely one ingredient A is used given that another ingredient B is used while taking into account the popularity of A.\n"
   ]
  },
  {
   "cell_type": "code",
   "execution_count": 26,
   "metadata": {},
   "outputs": [],
   "source": [
    "#finding frequet itemset\n",
    "from mlxtend.preprocessing import OnehotTransactions\n",
    "from mlxtend.frequent_patterns import apriori\n",
    "\n",
    "oht = OnehotTransactions()\n",
    "oht_ary = oht.fit(ingredientSets).transform(ingredientSets)\n",
    "df_fr = pd.DataFrame(oht_ary, columns=oht.columns_)\n",
    "#min_support indicates the fraction of recipies that that combination has to be in \n",
    "frequent_itemsets = apriori(df_fr,min_support=0.02, use_colnames=True) "
   ]
  },
  {
   "cell_type": "code",
   "execution_count": 27,
   "metadata": {},
   "outputs": [
    {
     "data": {
      "text/html": [
       "<div>\n",
       "<style>\n",
       "    .dataframe thead tr:only-child th {\n",
       "        text-align: right;\n",
       "    }\n",
       "\n",
       "    .dataframe thead th {\n",
       "        text-align: left;\n",
       "    }\n",
       "\n",
       "    .dataframe tbody tr th {\n",
       "        vertical-align: top;\n",
       "    }\n",
       "</style>\n",
       "<table border=\"1\" class=\"dataframe\">\n",
       "  <thead>\n",
       "    <tr style=\"text-align: right;\">\n",
       "      <th></th>\n",
       "      <th>support</th>\n",
       "      <th>itemsets</th>\n",
       "    </tr>\n",
       "  </thead>\n",
       "  <tbody>\n",
       "    <tr>\n",
       "      <th>80</th>\n",
       "      <td>0.356479</td>\n",
       "      <td>[sugar]</td>\n",
       "    </tr>\n",
       "    <tr>\n",
       "      <th>74</th>\n",
       "      <td>0.310000</td>\n",
       "      <td>[shallot]</td>\n",
       "    </tr>\n",
       "    <tr>\n",
       "      <th>11</th>\n",
       "      <td>0.294467</td>\n",
       "      <td>[butter]</td>\n",
       "    </tr>\n",
       "    <tr>\n",
       "      <th>34</th>\n",
       "      <td>0.264182</td>\n",
       "      <td>[eggs]</td>\n",
       "    </tr>\n",
       "    <tr>\n",
       "      <th>36</th>\n",
       "      <td>0.249710</td>\n",
       "      <td>[garlic]</td>\n",
       "    </tr>\n",
       "    <tr>\n",
       "      <th>35</th>\n",
       "      <td>0.240162</td>\n",
       "      <td>[flour]</td>\n",
       "    </tr>\n",
       "    <tr>\n",
       "      <th>52</th>\n",
       "      <td>0.233997</td>\n",
       "      <td>[onion]</td>\n",
       "    </tr>\n",
       "    <tr>\n",
       "      <th>51</th>\n",
       "      <td>0.188358</td>\n",
       "      <td>[olive oil]</td>\n",
       "    </tr>\n",
       "    <tr>\n",
       "      <th>188</th>\n",
       "      <td>0.160995</td>\n",
       "      <td>[eggs, sugar]</td>\n",
       "    </tr>\n",
       "    <tr>\n",
       "      <th>25</th>\n",
       "      <td>0.157712</td>\n",
       "      <td>[clove]</td>\n",
       "    </tr>\n",
       "    <tr>\n",
       "      <th>198</th>\n",
       "      <td>0.149866</td>\n",
       "      <td>[flour, sugar]</td>\n",
       "    </tr>\n",
       "    <tr>\n",
       "      <th>134</th>\n",
       "      <td>0.149546</td>\n",
       "      <td>[butter, sugar]</td>\n",
       "    </tr>\n",
       "    <tr>\n",
       "      <th>84</th>\n",
       "      <td>0.148345</td>\n",
       "      <td>[vanilla]</td>\n",
       "    </tr>\n",
       "    <tr>\n",
       "      <th>244</th>\n",
       "      <td>0.148044</td>\n",
       "      <td>[shallot, sugar]</td>\n",
       "    </tr>\n",
       "    <tr>\n",
       "      <th>163</th>\n",
       "      <td>0.139677</td>\n",
       "      <td>[clove, garlic]</td>\n",
       "    </tr>\n",
       "    <tr>\n",
       "      <th>47</th>\n",
       "      <td>0.139257</td>\n",
       "      <td>[milk]</td>\n",
       "    </tr>\n",
       "    <tr>\n",
       "      <th>197</th>\n",
       "      <td>0.138676</td>\n",
       "      <td>[flour, shallot]</td>\n",
       "    </tr>\n",
       "    <tr>\n",
       "      <th>182</th>\n",
       "      <td>0.137335</td>\n",
       "      <td>[eggs, flour]</td>\n",
       "    </tr>\n",
       "    <tr>\n",
       "      <th>125</th>\n",
       "      <td>0.133592</td>\n",
       "      <td>[butter, flour]</td>\n",
       "    </tr>\n",
       "    <tr>\n",
       "      <th>187</th>\n",
       "      <td>0.124985</td>\n",
       "      <td>[eggs, shallot]</td>\n",
       "    </tr>\n",
       "  </tbody>\n",
       "</table>\n",
       "</div>"
      ],
      "text/plain": [
       "      support          itemsets\n",
       "80   0.356479  [sugar]         \n",
       "74   0.310000  [shallot]       \n",
       "11   0.294467  [butter]        \n",
       "34   0.264182  [eggs]          \n",
       "36   0.249710  [garlic]        \n",
       "35   0.240162  [flour]         \n",
       "52   0.233997  [onion]         \n",
       "51   0.188358  [olive oil]     \n",
       "188  0.160995  [eggs, sugar]   \n",
       "25   0.157712  [clove]         \n",
       "198  0.149866  [flour, sugar]  \n",
       "134  0.149546  [butter, sugar] \n",
       "84   0.148345  [vanilla]       \n",
       "244  0.148044  [shallot, sugar]\n",
       "163  0.139677  [clove, garlic] \n",
       "47   0.139257  [milk]          \n",
       "197  0.138676  [flour, shallot]\n",
       "182  0.137335  [eggs, flour]   \n",
       "125  0.133592  [butter, flour] \n",
       "187  0.124985  [eggs, shallot] "
      ]
     },
     "execution_count": 27,
     "metadata": {},
     "output_type": "execute_result"
    }
   ],
   "source": [
    "frequent_itemsets.sort_values(\"support\",ascending=False).head(20)"
   ]
  },
  {
   "cell_type": "markdown",
   "metadata": {},
   "source": [
    "This indicates that there are indeed some ingredients that are used often together like eggs and suger, clove& garlic,... Let's also look at the other properties that we can get from the apriori algorithm"
   ]
  },
  {
   "cell_type": "code",
   "execution_count": 28,
   "metadata": {},
   "outputs": [],
   "source": [
    "from mlxtend.frequent_patterns import association_rules\n",
    "associationDf=association_rules(frequent_itemsets, metric=\"confidence\", min_threshold=0.5)"
   ]
  },
  {
   "cell_type": "code",
   "execution_count": 29,
   "metadata": {},
   "outputs": [
    {
     "data": {
      "text/html": [
       "<div>\n",
       "<style>\n",
       "    .dataframe thead tr:only-child th {\n",
       "        text-align: right;\n",
       "    }\n",
       "\n",
       "    .dataframe thead th {\n",
       "        text-align: left;\n",
       "    }\n",
       "\n",
       "    .dataframe tbody tr th {\n",
       "        vertical-align: top;\n",
       "    }\n",
       "</style>\n",
       "<table border=\"1\" class=\"dataframe\">\n",
       "  <thead>\n",
       "    <tr style=\"text-align: right;\">\n",
       "      <th></th>\n",
       "      <th>antecedants</th>\n",
       "      <th>consequents</th>\n",
       "      <th>support</th>\n",
       "      <th>confidence</th>\n",
       "      <th>lift</th>\n",
       "    </tr>\n",
       "  </thead>\n",
       "  <tbody>\n",
       "    <tr>\n",
       "      <th>465</th>\n",
       "      <td>(shallot, baking soda)</td>\n",
       "      <td>(butter, sugar)</td>\n",
       "      <td>0.049762</td>\n",
       "      <td>0.516492</td>\n",
       "      <td>3.453745</td>\n",
       "    </tr>\n",
       "    <tr>\n",
       "      <th>136</th>\n",
       "      <td>(vanilla, baking soda)</td>\n",
       "      <td>(flour)</td>\n",
       "      <td>0.041735</td>\n",
       "      <td>0.915588</td>\n",
       "      <td>3.812379</td>\n",
       "    </tr>\n",
       "    <tr>\n",
       "      <th>1144</th>\n",
       "      <td>(vanilla, flour, baking powder)</td>\n",
       "      <td>(eggs, butter, sugar)</td>\n",
       "      <td>0.037071</td>\n",
       "      <td>0.597732</td>\n",
       "      <td>6.424592</td>\n",
       "    </tr>\n",
       "    <tr>\n",
       "      <th>1030</th>\n",
       "      <td>(vanilla, eggs, shallot, flour)</td>\n",
       "      <td>(butter)</td>\n",
       "      <td>0.046959</td>\n",
       "      <td>0.683717</td>\n",
       "      <td>2.321877</td>\n",
       "    </tr>\n",
       "    <tr>\n",
       "      <th>999</th>\n",
       "      <td>(vanilla, sugar, baking soda)</td>\n",
       "      <td>(shallot, flour)</td>\n",
       "      <td>0.040194</td>\n",
       "      <td>0.716633</td>\n",
       "      <td>5.167664</td>\n",
       "    </tr>\n",
       "    <tr>\n",
       "      <th>754</th>\n",
       "      <td>(vanilla, butter, baking powder)</td>\n",
       "      <td>(eggs, flour)</td>\n",
       "      <td>0.024681</td>\n",
       "      <td>0.915653</td>\n",
       "      <td>6.667277</td>\n",
       "    </tr>\n",
       "    <tr>\n",
       "      <th>1097</th>\n",
       "      <td>(vanilla, eggs, flour, sugar)</td>\n",
       "      <td>(shallot)</td>\n",
       "      <td>0.067277</td>\n",
       "      <td>0.685213</td>\n",
       "      <td>2.210361</td>\n",
       "    </tr>\n",
       "    <tr>\n",
       "      <th>253</th>\n",
       "      <td>(eggs, vegetable oil)</td>\n",
       "      <td>(flour)</td>\n",
       "      <td>0.040234</td>\n",
       "      <td>0.617413</td>\n",
       "      <td>2.570821</td>\n",
       "    </tr>\n",
       "    <tr>\n",
       "      <th>1108</th>\n",
       "      <td>(vanilla, flour)</td>\n",
       "      <td>(eggs, shallot, sugar)</td>\n",
       "      <td>0.079367</td>\n",
       "      <td>0.580832</td>\n",
       "      <td>6.452573</td>\n",
       "    </tr>\n",
       "    <tr>\n",
       "      <th>1212</th>\n",
       "      <td>(butter, flour, baking soda)</td>\n",
       "      <td>(vanilla, eggs, sugar)</td>\n",
       "      <td>0.034209</td>\n",
       "      <td>0.657109</td>\n",
       "      <td>7.100989</td>\n",
       "    </tr>\n",
       "    <tr>\n",
       "      <th>739</th>\n",
       "      <td>(eggs, butter, flour, baking powder)</td>\n",
       "      <td>(sugar)</td>\n",
       "      <td>0.033068</td>\n",
       "      <td>0.947337</td>\n",
       "      <td>2.657479</td>\n",
       "    </tr>\n",
       "    <tr>\n",
       "      <th>913</th>\n",
       "      <td>(butter, flour, baking soda, sugar)</td>\n",
       "      <td>(shallot)</td>\n",
       "      <td>0.033308</td>\n",
       "      <td>0.736178</td>\n",
       "      <td>2.374764</td>\n",
       "    </tr>\n",
       "    <tr>\n",
       "      <th>58</th>\n",
       "      <td>(vanilla)</td>\n",
       "      <td>(sugar)</td>\n",
       "      <td>0.148345</td>\n",
       "      <td>0.825260</td>\n",
       "      <td>2.315028</td>\n",
       "    </tr>\n",
       "    <tr>\n",
       "      <th>826</th>\n",
       "      <td>(vanilla, baking powder)</td>\n",
       "      <td>(eggs, shallot, flour)</td>\n",
       "      <td>0.039133</td>\n",
       "      <td>0.627110</td>\n",
       "      <td>7.092859</td>\n",
       "    </tr>\n",
       "    <tr>\n",
       "      <th>21</th>\n",
       "      <td>(carrot)</td>\n",
       "      <td>(onion)</td>\n",
       "      <td>0.072621</td>\n",
       "      <td>0.541896</td>\n",
       "      <td>2.315830</td>\n",
       "    </tr>\n",
       "    <tr>\n",
       "      <th>1020</th>\n",
       "      <td>(butter, flour, shallot)</td>\n",
       "      <td>(eggs, sugar)</td>\n",
       "      <td>0.076584</td>\n",
       "      <td>0.610298</td>\n",
       "      <td>3.790783</td>\n",
       "    </tr>\n",
       "    <tr>\n",
       "      <th>1088</th>\n",
       "      <td>(eggs, flour, milk, sugar)</td>\n",
       "      <td>(shallot)</td>\n",
       "      <td>0.031186</td>\n",
       "      <td>0.703466</td>\n",
       "      <td>2.269242</td>\n",
       "    </tr>\n",
       "    <tr>\n",
       "      <th>18</th>\n",
       "      <td>(flour)</td>\n",
       "      <td>(butter)</td>\n",
       "      <td>0.240162</td>\n",
       "      <td>0.556259</td>\n",
       "      <td>1.889036</td>\n",
       "    </tr>\n",
       "    <tr>\n",
       "      <th>1102</th>\n",
       "      <td>(vanilla, shallot, flour)</td>\n",
       "      <td>(eggs, sugar)</td>\n",
       "      <td>0.052364</td>\n",
       "      <td>0.880352</td>\n",
       "      <td>5.468185</td>\n",
       "    </tr>\n",
       "    <tr>\n",
       "      <th>557</th>\n",
       "      <td>(flour, cinnamon)</td>\n",
       "      <td>(butter, sugar)</td>\n",
       "      <td>0.046539</td>\n",
       "      <td>0.544516</td>\n",
       "      <td>3.641137</td>\n",
       "    </tr>\n",
       "  </tbody>\n",
       "</table>\n",
       "</div>"
      ],
      "text/plain": [
       "                               antecedants             consequents   support  \\\n",
       "465   (shallot, baking soda)                (butter, sugar)         0.049762   \n",
       "136   (vanilla, baking soda)                (flour)                 0.041735   \n",
       "1144  (vanilla, flour, baking powder)       (eggs, butter, sugar)   0.037071   \n",
       "1030  (vanilla, eggs, shallot, flour)       (butter)                0.046959   \n",
       "999   (vanilla, sugar, baking soda)         (shallot, flour)        0.040194   \n",
       "754   (vanilla, butter, baking powder)      (eggs, flour)           0.024681   \n",
       "1097  (vanilla, eggs, flour, sugar)         (shallot)               0.067277   \n",
       "253   (eggs, vegetable oil)                 (flour)                 0.040234   \n",
       "1108  (vanilla, flour)                      (eggs, shallot, sugar)  0.079367   \n",
       "1212  (butter, flour, baking soda)          (vanilla, eggs, sugar)  0.034209   \n",
       "739   (eggs, butter, flour, baking powder)  (sugar)                 0.033068   \n",
       "913   (butter, flour, baking soda, sugar)   (shallot)               0.033308   \n",
       "58    (vanilla)                             (sugar)                 0.148345   \n",
       "826   (vanilla, baking powder)              (eggs, shallot, flour)  0.039133   \n",
       "21    (carrot)                              (onion)                 0.072621   \n",
       "1020  (butter, flour, shallot)              (eggs, sugar)           0.076584   \n",
       "1088  (eggs, flour, milk, sugar)            (shallot)               0.031186   \n",
       "18    (flour)                               (butter)                0.240162   \n",
       "1102  (vanilla, shallot, flour)             (eggs, sugar)           0.052364   \n",
       "557   (flour, cinnamon)                     (butter, sugar)         0.046539   \n",
       "\n",
       "      confidence      lift  \n",
       "465   0.516492    3.453745  \n",
       "136   0.915588    3.812379  \n",
       "1144  0.597732    6.424592  \n",
       "1030  0.683717    2.321877  \n",
       "999   0.716633    5.167664  \n",
       "754   0.915653    6.667277  \n",
       "1097  0.685213    2.210361  \n",
       "253   0.617413    2.570821  \n",
       "1108  0.580832    6.452573  \n",
       "1212  0.657109    7.100989  \n",
       "739   0.947337    2.657479  \n",
       "913   0.736178    2.374764  \n",
       "58    0.825260    2.315028  \n",
       "826   0.627110    7.092859  \n",
       "21    0.541896    2.315830  \n",
       "1020  0.610298    3.790783  \n",
       "1088  0.703466    2.269242  \n",
       "18    0.556259    1.889036  \n",
       "1102  0.880352    5.468185  \n",
       "557   0.544516    3.641137  "
      ]
     },
     "execution_count": 29,
     "metadata": {},
     "output_type": "execute_result"
    }
   ],
   "source": [
    "associationDf.sample(20)"
   ]
  },
  {
   "cell_type": "markdown",
   "metadata": {},
   "source": [
    "Since this is still the second milestones we do not jump right away to conclusions about the associations we just showed that they are there and that the appriori algorithm is one way to get to these associations. We could also go for a different approach: working with foodnetworks."
   ]
  },
  {
   "cell_type": "markdown",
   "metadata": {},
   "source": [
    "#### 3.1.3 Associations: an alternative approach with network analysis"
   ]
  },
  {
   "cell_type": "markdown",
   "metadata": {},
   "source": [
    "We create an ingredient network where an ingredient is linked with another if they appear in the same recipe. However this takes a huge amount of computing time. Therefore we only take 5% of our recipies into account. Later we will run this on the whole data set with the cluster or overnight with our own machines and save it on an external file."
   ]
  },
  {
   "cell_type": "code",
   "execution_count": 35,
   "metadata": {},
   "outputs": [
    {
     "name": "stdout",
     "output_type": "stream",
     "text": [
      "10% of the monster is generated\n",
      "<class 'networkx.classes.graph.Graph'>\n",
      "nb of edges: 18008\n",
      "nb of nodes: 463\n"
     ]
    }
   ],
   "source": [
    "import numpy as np\n",
    "import networkx as nx\n",
    "import matplotlib.pyplot as plt\n",
    "import pandas as pd\n",
    "\n",
    "#loading data into data frame\n",
    "data = pd.DataFrame.from_csv('finalDF.csv')\n",
    "data = data['finalIngredients']\n",
    "\n",
    "#Initializing Dicts\n",
    "ingredient_graph_array = {}\n",
    "\n",
    "data_index = data.index.values\n",
    "#Build a little network for each recipe\n",
    "for n in data_index:\n",
    "    proxy = nx.complete_graph(eval(data[n]))\n",
    "    ingredient_graph_array[n] = nx.Graph()\n",
    "    for (u,v) in proxy.edges():\n",
    "        ingredient_graph_array[n].add_edge(u,v, weight =1)\n",
    "\n",
    "#Merge the little networks into one big monster where\n",
    "#the weight of the adges is incremented for each occurence of a connection \n",
    "timeIndicator = 0\n",
    "for graph_iter in data_index:\n",
    "    if timeIndicator%10==0:\n",
    "        if timeIndicator/len(data_index)*100>5:\n",
    "            print(\"10% of the monster is generated\")\n",
    "            break\n",
    "    if graph_iter == 0:\n",
    "        Monster = ingredient_graph_array[graph_iter]\n",
    "        pass\n",
    "\n",
    "    intersection = list(set(Monster.edges) & set(ingredient_graph_array[graph_iter].edges))\n",
    "\n",
    "    Monster = nx.algorithms.operators.binary.compose(ingredient_graph_array[graph_iter],Monster, 'Monster')\n",
    "\n",
    "    for edit in intersection:\n",
    "\n",
    "        Monster[edit[0]][edit[1]]['weight'] = 1+ Monster[edit[0]][edit[1]]['weight']\n",
    "    timeIndicator = timeIndicator +1\n",
    "\n",
    "print(type(Monster))\n",
    "print(\"nb of edges: \" +str(Monster.number_of_edges()))\n",
    "print(\"nb of nodes: \"+ str(Monster.number_of_nodes()))"
   ]
  },
  {
   "cell_type": "markdown",
   "metadata": {},
   "source": [
    "With this network we can try to do some visualizations and other analysis."
   ]
  },
  {
   "cell_type": "code",
   "execution_count": 36,
   "metadata": {},
   "outputs": [
    {
     "data": {
      "image/png": "[encoded data removed]",
      "text/plain": [
       "<matplotlib.figure.Figure at 0x127efa0f0>"
      ]
     },
     "metadata": {},
     "output_type": "display_data"
    }
   ],
   "source": [
    "#Visualize it\n",
    "pos = nx.spring_layout(Monster, weight=\"weight\")\n",
    "nx.draw(Monster, pos,node_size=8,node_color=\"green\",linewidths=0.005,scale=2)\n",
    "plt.show()"
   ]
  },
  {
   "cell_type": "markdown",
   "metadata": {},
   "source": [
    "This looks like a monster indeed. However usefull stuff can be done by analyzing the whole network. \n",
    "For example: looking at the average degree, clustering arround certain ingredient groups,... "
   ]
  },
  {
   "cell_type": "markdown",
   "metadata": {},
   "source": [
    "### 3.2 REDISCUSSING OUR GOALS"
   ]
  },
  {
   "cell_type": "markdown",
   "metadata": {},
   "source": [
    "Now that we have a network of all our ingredients and done some exploratary analysis we can truly set our goals.\n",
    "We conclude on two different goals for the final deadline:\n",
    "-  We will look at the subsets of different ingredients that are regulary used together and those that are never combined together. We search for a good way to visualize this. \n",
    "-  We will implement an algorithm that uses the association between different ingredients to predict and propose new ingredients given a list of ingredients. This also incorparates the goal of proposing new recipies. The final goal would be to be able to query ingredients and our algorithm will propose ingredients that are likely to go well with those.\n",
    "\n"
   ]
  },
  {
   "cell_type": "markdown",
   "metadata": {},
   "source": [
    "## 4. METHODS TO ACCOMPLISH THESE GOALS"
   ]
  },
  {
   "cell_type": "markdown",
   "metadata": {},
   "source": [
    "### 4.1 WHAT METHODS WILL WE USE "
   ]
  },
  {
   "cell_type": "markdown",
   "metadata": {},
   "source": [
    "#### 4.1.1 The apriori algorithm"
   ]
  },
  {
   "cell_type": "markdown",
   "metadata": {},
   "source": [
    "As seen in the exploratary analysis the apriori algorithm is very powerfull to find associations. We will therefore defenitly use the output of this algorithm to predict and propose new ingredients to enhance and generate recipes.  <br>\n",
    "Using the lift and confidence and other conditions we could come up with tresholds value to find some good subsets of ingredients.\n",
    "\n"
   ]
  },
  {
   "cell_type": "markdown",
   "metadata": {},
   "source": [
    "#### 4.1.2 LDA modelling"
   ]
  },
  {
   "cell_type": "markdown",
   "metadata": {},
   "source": [
    "To explain LDA modelling we quote the following sentence from wikipedia:\n",
    "<br>\n",
    "\"\"\"\n",
    "<br>\n",
    "In natural language processing, latent Dirichlet allocation (LDA) is a generative statistical model that allows sets of observations to be explained by unobserved groups that explain why some parts of the data are similar.\n",
    "<br>\n",
    "\"\"\"\n",
    "<br>\n",
    "Why LDA modeling? LDA modeling will, based on our recipies caterogize our ingredients in the number of categories that we tell it to categorise them in. In other words:  it will try to devide the ingredients into different categories without actually knowing what they represent. LDA will do this based on which ingredient are used together and will filter out the ingredients that are used pretty much everywhere. \n",
    "\n",
    "When tuned properly LDA can gives us usefull insights in ingredients associations that the appriori algorithm might have missed. LDA needs tuning in the parameters alpha and beta. We will chose a low alpha value which indicates that each recipe only will belong to a few categories and a little higher beta value to indicate that each category is composed of multiple words.\n",
    "\n",
    "We will use LDA where each recipe is handled as a little document. We might have to filter out the recipies with very few ingredients, this is something that we'll have to see when implementing the algorithm.\n",
    "\n",
    "Conclusion: our goal with LDA is to provide a way to classify list of ingredients to different categories. This might help us to give better predictions and propose better ingredients"
   ]
  },
  {
   "cell_type": "markdown",
   "metadata": {},
   "source": [
    "#### 4.1.3 Network analysis"
   ]
  },
  {
   "cell_type": "markdown",
   "metadata": {},
   "source": [
    "Network analysis can also be a really powerfull tool answer certain questions. It gives an idea of how well connected our ingredients our. We will use it to find the anti-associaitons of certain ingredients or groups of ingredients.\n",
    "Networks are also a nice thing to visualize on the poster, it quickly gives an idea of how the recipe database is connected. We would like to try to clearly visualize the clusters and potentially make interactive plots.  However, as seen in the exploretary analysis, on must watch out not to overkill the plots.\n"
   ]
  },
  {
   "cell_type": "markdown",
   "metadata": {},
   "source": [
    "### 4.2 CONCLUSION METHODS"
   ]
  },
  {
   "cell_type": "markdown",
   "metadata": {},
   "source": [
    "Based on the results of the different methods we will be able to design the algorithm to generate and enhance certain recipies.\n",
    "The appriori model will be our main backbone of the algorithm. Network analysis will make sure that certain ingredients are not matched. Depending on the results of LDA we will use it in the algorithm or not. If it is not used in the algorithm it can still be used to perform a classification of the generated recipe and see how close it is to certain not generated recipies.  "
   ]
  },
  {
   "cell_type": "markdown",
   "metadata": {},
   "source": [
    "## 5. DEFINING OUR PLANNING"
   ]
  },
  {
   "cell_type": "markdown",
   "metadata": {
    "collapsed": true
   },
   "source": [
    "Before the project deadline there is still a lot of work that we have to do.\n",
    "-  We tune and make the machine learning methods work (week 4/12-10/12)\n",
    "-  We write about the machine learning method in our report (week 4/12-10/12)\n",
    "-  We design and implement the algorithm (11/12-17/12)\n",
    "-  We focus on visualization and how to presentate our results (11/12-17/12)\n",
    "-  We write the rest of our report (11/12-17/12)\n",
    "-  Final team feedback (18/12-19/12)"
   ]
  },
  {
   "cell_type": "code",
   "execution_count": null,
   "metadata": {
    "collapsed": true
   },
   "outputs": [],
   "source": []
  }
 ],
 "metadata": {
  "kernelspec": {
   "display_name": "Python 3",
   "language": "python",
   "name": "python3"
  },
  "language_info": {
   "codemirror_mode": {
    "name": "ipython",
    "version": 3
   },
   "file_extension": ".py",
   "mimetype": "text/x-python",
   "name": "python",
   "nbconvert_exporter": "python",
   "pygments_lexer": "ipython3",
   "version": "3.6.1"
  }
 },
 "nbformat": 4,
 "nbformat_minor": 2
}
